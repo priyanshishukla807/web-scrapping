{
 "cells": [
  {
   "cell_type": "code",
   "execution_count": null,
   "id": "fd5e8048",
   "metadata": {},
   "outputs": [],
   "source": [
    "import pandas as pd\n",
    "\n",
    "# Sample data for dataset A\n",
    "data_a = {\n",
    "    'ID': ['ABC-1', 'ABC-2', 'ABC-3', 'ABC-4', 'ABC-5', 'ABC-6'],\n",
    "    'status': ['on track', 'not on track', 'delayed', 'on track', 'on track', 'delayed'],\n",
    "    'login date': ['31-May-22', '04-Mar-22', '15-May-21', '17-Apr-23', '04-Sep-21', '06-Aug-22'],\n",
    "    'places date': ['02-Jul-21', '10-Mar-22', '21-Jun-21', '01-May-23', '01-Oct-21', '17-Aug-22'],\n",
    "    'tracking': ['yes', 'No', 'No', 'yes', 'yes', 'yes'],\n",
    "    'confidential': ['internal', 'internal', 'internal', 'internal', 'internal', 'internal']\n",
    "}\n",
    "\n",
    "# Sample data for dataset B\n",
    "data_b = {\n",
    "    'ID': ['ABC-1', 'ABC-2', 'ABC-10', 'ABC-4', 'ABC-12', 'ABC-17'],\n",
    "    'status': ['not on track', 'on track', 'delayed', 'on track', 'on track', 'delayed'],\n",
    "    'login date': ['31-Jul-22', '10-Apr-22', '15-May-21', '20-May-23', '04-Sep-21', '06-Aug-22'],\n",
    "    'places date': ['02-Jul-21', '10-Mar-22', '21-Jun-21', '01-May-23', '01-Oct-21', '17-Aug-22']\n",
    "}\n",
    "\n",
    "# Create pandas DataFrames from the sample data\n",
    "df_a = pd.DataFrame(data_a)\n",
    "df_b = pd.DataFrame(data_b)\n",
    "\n",
    "# Update the values in dataset A directly based on the conditions\n",
    "mask = (df_a['tracking'] == 'yes') & (df_a['confidential'] == 'internal')\n",
    "common_ids = df_a.loc[mask, 'ID'].values\n",
    "update_data = df_b[df_b['ID'].isin(common_ids)]\n",
    "\n",
    "df_a.loc[mask, 'status'] = update_data['status'].values\n",
    "df_a.loc[mask, 'login date'] = update_data['login date'].values\n",
    "df_a.loc[mask, 'confidential'] = 'N/A'\n",
    "\n",
    "# Print the updated dataset A\n",
    "print(df_a)\n"
   ]
  }
 ],
 "metadata": {
  "kernelspec": {
   "display_name": "Python 3 (ipykernel)",
   "language": "python",
   "name": "python3"
  },
  "language_info": {
   "codemirror_mode": {
    "name": "ipython",
    "version": 3
   },
   "file_extension": ".py",
   "mimetype": "text/x-python",
   "name": "python",
   "nbconvert_exporter": "python",
   "pygments_lexer": "ipython3",
   "version": "3.9.12"
  }
 },
 "nbformat": 4,
 "nbformat_minor": 5
}
