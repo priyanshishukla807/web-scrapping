{
 "cells": [
  {
   "cell_type": "code",
   "execution_count": null,
   "id": "7531e66c",
   "metadata": {},
   "outputs": [],
   "source": [
    "import pandas as pd\n",
    "from sklearn.feature_extraction.text import TfidfVectorizer\n",
    "from sklearn.metrics.pairwise import cosine_similarity\n",
    "\n",
    "# Example data frames\n",
    "df1 = pd.DataFrame({'text': ['apple', 'banana', 'orange']})\n",
    "df2 = pd.DataFrame({'text': ['apples are delicious', 'I like to eat bananas', 'oranges are juicy']})\n",
    "\n",
    "# Create TF-IDF vectorizer and compute document-term matrix for each data frame\n",
    "tfidf = TfidfVectorizer()\n",
    "tfidf_matrix1 = tfidf.fit_transform(df1['text'])\n",
    "tfidf_matrix2 = tfidf.transform(df2['text'])\n",
    "\n",
    "# Compute cosine similarity between each pair of documents\n",
    "similarity_matrix = cosine_similarity(tfidf_matrix1, tfidf_matrix2)\n",
    "\n",
    "# Find the maximum similarity for each document in df1\n",
    "max_similarities = similarity_matrix.max(axis=1)\n",
    "\n",
    "# Add the maximum similarity as a column to df1\n",
    "df1['max_similarity'] = max_similarities\n",
    "\n",
    "# Print the result\n",
    "print(df1)"
   ]
  }
 ],
 "metadata": {
  "kernelspec": {
   "display_name": "Python 3 (ipykernel)",
   "language": "python",
   "name": "python3"
  },
  "language_info": {
   "codemirror_mode": {
    "name": "ipython",
    "version": 3
   },
   "file_extension": ".py",
   "mimetype": "text/x-python",
   "name": "python",
   "nbconvert_exporter": "python",
   "pygments_lexer": "ipython3",
   "version": "3.9.12"
  }
 },
 "nbformat": 4,
 "nbformat_minor": 5
}
