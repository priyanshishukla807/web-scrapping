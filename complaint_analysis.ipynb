{
 "cells": [
  {
   "cell_type": "code",
   "execution_count": null,
   "id": "dd116b50",
   "metadata": {},
   "outputs": [],
   "source": [
    "#marked as red and went overdue \n",
    "def count_overdue_complaints(complaints_list):\n",
    "    count = 0\n",
    "    complaint_red_flags = set()\n",
    "\n",
    "    # Iterate over each complaint in the list\n",
    "    for complaint in complaints_list:\n",
    "        complaint_id = complaint[\"id\"]\n",
    "        status = complaint[\"status\"]\n",
    "        color = complaint[\"color\"]\n",
    "        due_date = complaint[\"due_date\"]\n",
    "        closed_date = complaint[\"Closed_date\"]\n",
    "\n",
    "        # Check if the complaint is open and has a red flag\n",
    "        if status == \"open\" and color == \"red\" and complaint_id not in complaint_red_flags:\n",
    "            # Check if the complaint is overdue\n",
    "            if current_date > due_date:\n",
    "                count += 1\n",
    "                complaint_red_flags.add(complaint_id)\n",
    "\n",
    "        # Update the set of complaint IDs with red flags\n",
    "        if color == \"red\":\n",
    "            complaint_red_flags.add(complaint_id)\n",
    "\n",
    "    return count\n",
    "\n",
    "# Set the current date\n",
    "current_date = \"2023-05-23\"\n",
    "\n",
    "# Call the function and print the result\n",
    "overdue_count = count_overdue_complaints(complaints)\n",
    "print(f\"Number of initially red flagged complaints that went overdue: {overdue_count}\")"
   ]
  },
  {
   "cell_type": "code",
   "execution_count": null,
   "id": "eba9e483",
   "metadata": {},
   "outputs": [],
   "source": [
    "#never marked as red and went overdue\n",
    "def count_overdue_complaints(complaints_list):\n",
    "    count = 0\n",
    "    complaint_red_flags = set()\n",
    "    overdue_complaints = set()\n",
    "\n",
    "    # Iterate over each complaint in the list\n",
    "    for complaint in complaints_list:\n",
    "        complaint_id = complaint[\"id\"]\n",
    "        status = complaint[\"status\"]\n",
    "        color = complaint[\"color\"]\n",
    "        due_date = complaint[\"due_date\"]\n",
    "        closed_date = complaint[\"Closed_date\"]\n",
    "\n",
    "        # Check if the complaint is open and has not been marked as red\n",
    "        if status == \"open\" and color != \"red\":\n",
    "            # Check if the complaint is overdue\n",
    "            if current_date > due_date:\n",
    "                overdue_complaints.add(complaint_id)\n",
    "\n",
    "        # Update the set of complaint IDs with red flags\n",
    "        if color == \"red\":\n",
    "            complaint_red_flags.add(complaint_id)\n",
    "\n",
    "    # Count the number of complaints that were never marked as red but went overdue\n",
    "    count = len(overdue_complaints - complaint_red_flags)\n",
    "    return count\n",
    "\n",
    "# Set the current date\n",
    "current_date = \"2023-05-23\"\n",
    "\n",
    "# Call the function and print the result\n",
    "overdue_count = count_overdue_complaints(complaints)\n",
    "print(f\"Number of complaints that were never marked as red but went overdue: {overdue_count}\")\n"
   ]
  }
 ],
 "metadata": {
  "kernelspec": {
   "display_name": "Python 3 (ipykernel)",
   "language": "python",
   "name": "python3"
  },
  "language_info": {
   "codemirror_mode": {
    "name": "ipython",
    "version": 3
   },
   "file_extension": ".py",
   "mimetype": "text/x-python",
   "name": "python",
   "nbconvert_exporter": "python",
   "pygments_lexer": "ipython3",
   "version": "3.9.12"
  }
 },
 "nbformat": 4,
 "nbformat_minor": 5
}
