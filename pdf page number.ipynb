{
 "cells": [
  {
   "cell_type": "code",
   "execution_count": 1,
   "id": "1f727eb8",
   "metadata": {},
   "outputs": [],
   "source": [
    "import pandas as pd"
   ]
  },
  {
   "cell_type": "code",
   "execution_count": null,
   "id": "d5b8ed94",
   "metadata": {},
   "outputs": [],
   "source": [
    "import pandas as pd\n",
    "\n",
    "# Create the first dataframe\n",
    "df1 = pd.DataFrame({'Key': ['A', 'B', 'C', 'D'], 'Value': [1, 2, 3, 4]})\n",
    "\n",
    "# Create the second dataframe\n",
    "df2 = pd.DataFrame({'Key': ['B', 'C'], 'Value': [10, 20]})\n",
    "\n",
    "# Merge the dataframes based on the 'Key' column and replace the values\n",
    "df1 = df1.merge(df2, on='Key', how='left')\n",
    "df1['Value'] = df1['Value_y'].fillna(df1['Value_x'])\n",
    "df1 = df1.drop(['Value_x', 'Value_y'], axis=1)\n",
    "\n",
    "# Print the updated dataframe\n",
    "print(df1)"
   ]
  },
  {
   "cell_type": "code",
   "execution_count": null,
   "id": "af097d7a",
   "metadata": {},
   "outputs": [],
   "source": [
    "import pandas as pd\n",
    "\n",
    "# Creating first DataFrame\n",
    "df1 = pd.DataFrame({'A': ['foo', 'bar', 'baz'], 'B': [1, 2, 3], 'C': [4, 5, 6]})\n",
    "\n",
    "# Creating second DataFrame\n",
    "df2 = pd.DataFrame({'A': ['foo', 'baz'], 'B': [10, 30]})\n",
    "\n",
    "# Replacing values in df1 with values in df2\n",
    "df1 = df1.replace(df2.set_index('A')['B'], regex=True)\n",
    "\n",
    "print(df1)"
   ]
  },
  {
   "cell_type": "code",
   "execution_count": null,
   "id": "2df3b7de",
   "metadata": {},
   "outputs": [],
   "source": [
    "import pandas as pd\n",
    "\n",
    "# Create the first dataframe\n",
    "df1 = pd.DataFrame({'Column1': ['Apple', 'Banana', 'Cherry'],\n",
    "                    'Column2': ['Dog', 'Elephant', 'Fish']})\n",
    "\n",
    "# Create the second dataframe with the replacement values\n",
    "df2 = pd.DataFrame({'Column1': ['Fruit1', 'Fruit2', 'Fruit3'],\n",
    "                    'Column2': ['Animal1', 'Animal2', 'Animal3']})\n",
    "\n",
    "# Replace the values in df1 with the values from df2\n",
    "df1.replace(to_replace=df2.set_index('Column1').squeeze(), inplace=True)\n",
    "\n",
    "# Print the updated dataframe\n",
    "print(df1)"
   ]
  },
  {
   "cell_type": "code",
   "execution_count": null,
   "id": "2d03d9cf",
   "metadata": {},
   "outputs": [],
   "source": [
    "import re\n",
    "import pandas as pd\n",
    "import fitz  # PyMuPDF\n",
    "\n",
    "# Sample PDF file\n",
    "pdf_file = \"sample.pdf\"  # Replace with your PDF file\n",
    "\n",
    "# Keywords to search for\n",
    "keywords = [\"Data Science\", \"Python\", \"Machine Learning\", \"Analytics\"]\n",
    "\n",
    "# Create a PDF document object\n",
    "doc = fitz.open(pdf_file)\n",
    "\n",
    "# Initialize a list to store keyword matches\n",
    "matches = []\n",
    "\n",
    "# Iterate through each page in the PDF\n",
    "for page_num in range(doc.page_count):\n",
    "    page = doc.load_page(page_num)\n",
    "    text = page.get_text(\"blocks\")\n",
    "    \n",
    "    # Iterate through each block (paragraph) on the page\n",
    "    for block in text:\n",
    "        paragraph_text = block[4]\n",
    "        \n",
    "        # Check for keyword matches in the paragraph\n",
    "        for keyword in keywords:\n",
    "            if re.search(r'\\b{}\\b'.format(keyword), paragraph_text, re.IGNORECASE):\n",
    "                match_info = {\n",
    "                    \"Keyword\": keyword,\n",
    "                    \"Page\": page_num + 1,  # Adding 1 to convert 0-based to 1-based indexing\n",
    "                    \"Paragraph\": paragraph_text\n",
    "                }\n",
    "                matches.append(match_info)\n",
    "\n",
    "# Close the PDF document\n",
    "doc.close()\n",
    "\n",
    "# Create a DataFrame from matches\n",
    "result_df = pd.DataFrame(matches)\n",
    "\n",
    "# Print the resulting DataFrame\n",
    "print(result_df)"
   ]
  },
  {
   "cell_type": "code",
   "execution_count": null,
   "id": "87af4fe4",
   "metadata": {},
   "outputs": [],
   "source": []
  }
 ],
 "metadata": {
  "kernelspec": {
   "display_name": "Python 3 (ipykernel)",
   "language": "python",
   "name": "python3"
  },
  "language_info": {
   "codemirror_mode": {
    "name": "ipython",
    "version": 3
   },
   "file_extension": ".py",
   "mimetype": "text/x-python",
   "name": "python",
   "nbconvert_exporter": "python",
   "pygments_lexer": "ipython3",
   "version": "3.9.12"
  }
 },
 "nbformat": 4,
 "nbformat_minor": 5
}
