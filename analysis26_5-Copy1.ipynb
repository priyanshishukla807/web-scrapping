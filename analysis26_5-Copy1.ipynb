{
 "cells": [
  {
   "cell_type": "code",
   "execution_count": 3,
   "id": "a0bb68f0",
   "metadata": {},
   "outputs": [],
   "source": [
    "import datetime\n",
    "import pandas as pd"
   ]
  },
  {
   "cell_type": "code",
   "execution_count": 13,
   "id": "9c676101",
   "metadata": {},
   "outputs": [],
   "source": [
    "data = pd.read_excel(r\"C:\\Users\\Priyanshi\\Downloads\\dummy data1.xlsx\")"
   ]
  },
  {
   "cell_type": "code",
   "execution_count": 14,
   "id": "f998db97",
   "metadata": {},
   "outputs": [],
   "source": [
    "df = data.copy()\n",
    "from datetime import datetime"
   ]
  },
  {
   "cell_type": "code",
   "execution_count": 15,
   "id": "470145f9",
   "metadata": {},
   "outputs": [],
   "source": [
    "import numpy as np"
   ]
  },
  {
   "cell_type": "code",
   "execution_count": 16,
   "id": "6cf3e7aa",
   "metadata": {},
   "outputs": [],
   "source": [
    "df = data.copy()"
   ]
  },
  {
   "cell_type": "code",
   "execution_count": 17,
   "id": "a24aadda",
   "metadata": {},
   "outputs": [
    {
     "data": {
      "text/html": [
       "<div>\n",
       "<style scoped>\n",
       "    .dataframe tbody tr th:only-of-type {\n",
       "        vertical-align: middle;\n",
       "    }\n",
       "\n",
       "    .dataframe tbody tr th {\n",
       "        vertical-align: top;\n",
       "    }\n",
       "\n",
       "    .dataframe thead th {\n",
       "        text-align: right;\n",
       "    }\n",
       "</style>\n",
       "<table border=\"1\" class=\"dataframe\">\n",
       "  <thead>\n",
       "    <tr style=\"text-align: right;\">\n",
       "      <th></th>\n",
       "      <th>ID</th>\n",
       "      <th>Status</th>\n",
       "      <th>color tag</th>\n",
       "      <th>due_date</th>\n",
       "      <th>Closed_date</th>\n",
       "      <th>status update date</th>\n",
       "      <th>days it was on risk</th>\n",
       "      <th>Unnamed: 7</th>\n",
       "      <th>Unnamed: 8</th>\n",
       "      <th>Unnamed: 9</th>\n",
       "    </tr>\n",
       "  </thead>\n",
       "  <tbody>\n",
       "    <tr>\n",
       "      <th>0</th>\n",
       "      <td>1</td>\n",
       "      <td>draf</td>\n",
       "      <td>NaN</td>\n",
       "      <td>2020-05-20 14:57:00</td>\n",
       "      <td>NaT</td>\n",
       "      <td>NaT</td>\n",
       "      <td>NaN</td>\n",
       "      <td>NaN</td>\n",
       "      <td>NaN</td>\n",
       "      <td>NaN</td>\n",
       "    </tr>\n",
       "    <tr>\n",
       "      <th>1</th>\n",
       "      <td>1</td>\n",
       "      <td>open</td>\n",
       "      <td>green</td>\n",
       "      <td>2020-05-20 14:57:00</td>\n",
       "      <td>NaT</td>\n",
       "      <td>NaT</td>\n",
       "      <td>NaN</td>\n",
       "      <td>NaN</td>\n",
       "      <td>NaN</td>\n",
       "      <td>NaN</td>\n",
       "    </tr>\n",
       "  </tbody>\n",
       "</table>\n",
       "</div>"
      ],
      "text/plain": [
       "  ID Status color tag            due_date Closed_date status update date  \\\n",
       "0  1   draf       NaN 2020-05-20 14:57:00         NaT                NaT   \n",
       "1  1   open     green 2020-05-20 14:57:00         NaT                NaT   \n",
       "\n",
       "   days it was on risk  Unnamed: 7  Unnamed: 8  Unnamed: 9  \n",
       "0                  NaN         NaN         NaN         NaN  \n",
       "1                  NaN         NaN         NaN         NaN  "
      ]
     },
     "execution_count": 17,
     "metadata": {},
     "output_type": "execute_result"
    }
   ],
   "source": [
    "df.head(2)"
   ]
  },
  {
   "cell_type": "code",
   "execution_count": 19,
   "id": "f99618da",
   "metadata": {},
   "outputs": [],
   "source": [
    "date_columns = df[['due_date', 'Closed_date', 'status update date']]\n",
    "for column in date_columns:\n",
    "    df[column] = pd.to_datetime(df[column], dayfirst=True)"
   ]
  },
  {
   "cell_type": "code",
   "execution_count": 30,
   "id": "4be4f4a9",
   "metadata": {},
   "outputs": [],
   "source": [
    "def is_overdue(row):\n",
    "    if row['Status'] != 'Closed' and row['due_date'] < datetime.today():\n",
    "        return True\n",
    "    return False"
   ]
  },
  {
   "cell_type": "code",
   "execution_count": 31,
   "id": "63d9f1c6",
   "metadata": {},
   "outputs": [],
   "source": [
    "def is_overdue(row):\n",
    "    if row['Status'] != 'Closed' and row['due_date'] < datetime.today():\n",
    "        return True\n",
    "    return False"
   ]
  },
  {
   "cell_type": "code",
   "execution_count": 32,
   "id": "c5d7e1fa",
   "metadata": {},
   "outputs": [],
   "source": [
    "df['Overdue'] = df.apply(is_overdue, axis=1)"
   ]
  },
  {
   "cell_type": "code",
   "execution_count": 42,
   "id": "ea8ccc16",
   "metadata": {},
   "outputs": [
    {
     "data": {
      "text/plain": [
       "0      True\n",
       "1      True\n",
       "2      True\n",
       "3      True\n",
       "4      True\n",
       "5      True\n",
       "6      True\n",
       "7      True\n",
       "8      True\n",
       "9      True\n",
       "10     True\n",
       "11     True\n",
       "12     True\n",
       "13    False\n",
       "14    False\n",
       "15     True\n",
       "16     True\n",
       "17     True\n",
       "18     True\n",
       "19     True\n",
       "20     True\n",
       "21     True\n",
       "22     True\n",
       "23     True\n",
       "24     True\n",
       "25     True\n",
       "26     True\n",
       "27     True\n",
       "28     True\n",
       "29     True\n",
       "30     True\n",
       "31     True\n",
       "32     True\n",
       "Name: Overdue, dtype: bool"
      ]
     },
     "execution_count": 42,
     "metadata": {},
     "output_type": "execute_result"
    }
   ],
   "source": [
    "df['Overdue']"
   ]
  },
  {
   "cell_type": "code",
   "execution_count": 34,
   "id": "5972d2fe",
   "metadata": {},
   "outputs": [],
   "source": [
    "overdue_not_red = df[(df['Overdue'] == True) & (df['color tag'].isin(['Red', 'Dark Red']) == False)]\n",
    "num_overdue_not_red = len(overdue_not_red)"
   ]
  },
  {
   "cell_type": "code",
   "execution_count": 35,
   "id": "eb9b5fe6",
   "metadata": {},
   "outputs": [],
   "source": [
    "red_not_overdue = df[(df['Overdue'] == False) & (df['color tag'].isin(['Red', 'Dark Red']))]\n",
    "num_red_not_overdue = len(red_not_overdue)"
   ]
  },
  {
   "cell_type": "code",
   "execution_count": 39,
   "id": "1b4a2fba",
   "metadata": {},
   "outputs": [],
   "source": [
    "at_red_issues = df[df['color tag'].isin(['Red', 'Dark Red'])]\n",
    "at_red_issues['Duration_At_Red'] = at_red_issues['Closed_date'] - at_red_issues['status update date']\n",
    "at_red_issues['Duration_At_Red'] = at_red_issues['Duration_At_Red'].dt.days\n",
    "\n",
    "closed_on_due_date = at_red_issues[at_red_issues['Closed_date'] == at_red_issues['due_date']]\n",
    "closed_on_due_date['Stayed_At_Red'] = closed_on_due_date['Duration_At_Red']\n",
    "\n",
    "extended_issues = at_red_issues[at_red_issues['Closed_date'] > at_red_issues['due_date']]\n",
    "extended_issues['Stayed_At_Red'] = (extended_issues['due_date'] - extended_issues['status update date']).dt.days\n",
    "\n",
    "closed_on_due_date_details = closed_on_due_date[['ID', 'Stayed_At_Red']]\n",
    "extended_issues_details = extended_issues[['ID', 'Stayed_At_Red']]"
   ]
  },
  {
   "cell_type": "code",
   "execution_count": 41,
   "id": "ff85dbbb",
   "metadata": {},
   "outputs": [
    {
     "data": {
      "text/html": [
       "<div>\n",
       "<style scoped>\n",
       "    .dataframe tbody tr th:only-of-type {\n",
       "        vertical-align: middle;\n",
       "    }\n",
       "\n",
       "    .dataframe tbody tr th {\n",
       "        vertical-align: top;\n",
       "    }\n",
       "\n",
       "    .dataframe thead th {\n",
       "        text-align: right;\n",
       "    }\n",
       "</style>\n",
       "<table border=\"1\" class=\"dataframe\">\n",
       "  <thead>\n",
       "    <tr style=\"text-align: right;\">\n",
       "      <th></th>\n",
       "      <th>ID</th>\n",
       "      <th>Stayed_At_Red</th>\n",
       "    </tr>\n",
       "  </thead>\n",
       "  <tbody>\n",
       "  </tbody>\n",
       "</table>\n",
       "</div>"
      ],
      "text/plain": [
       "Empty DataFrame\n",
       "Columns: [ID, Stayed_At_Red]\n",
       "Index: []"
      ]
     },
     "execution_count": 41,
     "metadata": {},
     "output_type": "execute_result"
    }
   ],
   "source": [
    "closed_on_due_date_details"
   ]
  },
  {
   "cell_type": "code",
   "execution_count": null,
   "id": "719bbfe4",
   "metadata": {},
   "outputs": [],
   "source": []
  },
  {
   "cell_type": "code",
   "execution_count": null,
   "id": "a8181562",
   "metadata": {},
   "outputs": [],
   "source": []
  },
  {
   "cell_type": "code",
   "execution_count": null,
   "id": "2ff1f523",
   "metadata": {},
   "outputs": [],
   "source": []
  },
  {
   "cell_type": "code",
   "execution_count": 20,
   "id": "d35b00f4",
   "metadata": {},
   "outputs": [
    {
     "name": "stdout",
     "output_type": "stream",
     "text": [
      "{1, 3, 'abc-2', 5, 6, 'abc-4'}\n"
     ]
    }
   ],
   "source": [
    "# Get the current date\n",
    "current_date = datetime.now().date()\n",
    "\n",
    "# Set to store the IDs marked as red\n",
    "red_ids = set()\n",
    "\n",
    "# Set to store the IDs that are overdue and not marked as red\n",
    "overdue_ids = set()\n",
    "\n",
    "# Iterate through the data to find IDs marked as red\n",
    "for entry in data.itertuples(index=False):\n",
    "    color_tag = getattr(entry, \"color tag\", \"\")\n",
    "    if \"red\" in color_tag.lower():\n",
    "        red_ids.add(entry.ID)\n",
    "\n",
    "# Iterate through the data to check for overdue IDs\n",
    "for entry in data.itertuples(index=False):\n",
    "    entry_id = getattr(entry, \"ID\")\n",
    "    status = getattr(entry, \"Status\")\n",
    "    due_date = getattr(entry, \"due_date\")\n",
    "    closed_date = getattr(entry, \"Closed_date\")\n",
    "    \n",
    "    if entry_id and status and due_date:\n",
    "        due_date = due_date.date()\n",
    "        closed_date = (\n",
    "            closed_date.date() if closed_date and not pd.isnull(closed_date) else current_date\n",
    "        )\n",
    "        \n",
    "        if entry_id not in red_ids and (status != \"closed\" or due_date > closed_date):\n",
    "            overdue_ids.add(entry_id)\n",
    "\n",
    "print(overdue_ids)"
   ]
  },
  {
   "cell_type": "code",
   "execution_count": 21,
   "id": "fca39977",
   "metadata": {},
   "outputs": [
    {
     "name": "stdout",
     "output_type": "stream",
     "text": [
      "{1, 3, 5, 6, 'abc-4'}\n"
     ]
    }
   ],
   "source": [
    "\n",
    "# Get the current date\n",
    "current_date = datetime.now().date()\n",
    "\n",
    "# Set to store the IDs marked as red\n",
    "red_ids = set()\n",
    "\n",
    "# Set to store the IDs that are overdue and not marked as red\n",
    "overdue_ids = set()\n",
    "\n",
    "# Iterate through the data to find IDs marked as red\n",
    "for entry in data.itertuples(index=False):\n",
    "    color_tag = getattr(entry, \"color tag\", \"\")\n",
    "    if \"red\" in color_tag.lower():\n",
    "        red_ids.add(entry.ID)\n",
    "\n",
    "# Iterate through the data to check for overdue IDs\n",
    "for entry in data.itertuples(index=False):\n",
    "    entry_id = getattr(entry, \"ID\")\n",
    "    status = getattr(entry, \"Status\")\n",
    "    due_date = getattr(entry, \"due_date\")\n",
    "    closed_date = getattr(entry, \"Closed_date\")\n",
    "    \n",
    "    if entry_id and status and due_date:\n",
    "        due_date = due_date.date()\n",
    "        closed_date = (\n",
    "            closed_date.date() if closed_date and not pd.isnull(closed_date) else current_date\n",
    "        )\n",
    "        \n",
    "        if entry_id not in red_ids and (\n",
    "            status.lower().startswith(\"closed\") or due_date > closed_date\n",
    "        ):\n",
    "            overdue_ids.add(entry_id)\n",
    "\n",
    "print(overdue_ids)"
   ]
  },
  {
   "cell_type": "code",
   "execution_count": 22,
   "id": "596773e9",
   "metadata": {},
   "outputs": [
    {
     "data": {
      "text/plain": [
       "{1, 3, 5, 6, 'abc-4'}"
      ]
     },
     "execution_count": 22,
     "metadata": {},
     "output_type": "execute_result"
    }
   ],
   "source": [
    "overdue_ids"
   ]
  },
  {
   "cell_type": "code",
   "execution_count": 23,
   "id": "1459dec3",
   "metadata": {},
   "outputs": [
    {
     "name": "stdout",
     "output_type": "stream",
     "text": [
      "{1, 3, 5, 6, 'abc-4'}\n"
     ]
    }
   ],
   "source": [
    "# Get the current date\n",
    "current_date = datetime.now().date()\n",
    "\n",
    "# Set to store the IDs marked as red\n",
    "red_ids = set()\n",
    "\n",
    "# Set to store the IDs that are overdue and not marked as red\n",
    "overdue_ids = set()\n",
    "\n",
    "# Iterate through the data to find IDs marked as red\n",
    "for entry in data.itertuples(index=False):\n",
    "    color_tag = getattr(entry, \"color tag\", \"\")\n",
    "    if \"red\" in color_tag.lower():\n",
    "        red_ids.add(entry.ID)\n",
    "\n",
    "# Iterate through the data to check for overdue IDs\n",
    "for entry in data.itertuples(index=False):\n",
    "    entry_id = getattr(entry, \"ID\")\n",
    "    status = getattr(entry, \"Status\")\n",
    "    due_date = getattr(entry, \"due_date\")\n",
    "    closed_date = getattr(entry, \"Closed_date\")\n",
    "\n",
    "    if entry_id and status and due_date:\n",
    "        due_date = pd.to_datetime(due_date).date()\n",
    "        closed_date = (\n",
    "            pd.to_datetime(closed_date).date() if closed_date and not pd.isnull(closed_date) else current_date\n",
    "        )\n",
    "\n",
    "        if entry_id not in red_ids and (\n",
    "            status.lower().startswith(\"closed\") or due_date > closed_date\n",
    "        ):\n",
    "            overdue_ids.add(entry_id)\n",
    "\n",
    "print(overdue_ids)"
   ]
  },
  {
   "cell_type": "code",
   "execution_count": 24,
   "id": "504f6450",
   "metadata": {},
   "outputs": [
    {
     "name": "stdout",
     "output_type": "stream",
     "text": [
      "{1, 3, 5, 6, 'abc-4'}\n"
     ]
    }
   ],
   "source": [
    "\n",
    "# Get the current date\n",
    "current_date = datetime.now().date()\n",
    "\n",
    "# Set to store the IDs marked as red\n",
    "red_ids = set()\n",
    "\n",
    "# Set to store the IDs that are overdue and not marked as red\n",
    "overdue_ids = set()\n",
    "\n",
    "# Iterate through the data to find IDs marked as red\n",
    "for entry in data.itertuples(index=False):\n",
    "    color_tag = getattr(entry, \"color tag\", \"\")\n",
    "    if \"red\" in color_tag.lower():\n",
    "        red_ids.add(entry.ID)\n",
    "\n",
    "# Dictionary to store the latest due date for each ID\n",
    "latest_due_dates = {}\n",
    "\n",
    "# Iterate through the data to check for overdue IDs\n",
    "for entry in data.itertuples(index=False):\n",
    "    entry_id = getattr(entry, \"ID\")\n",
    "    status = getattr(entry, \"Status\")\n",
    "    due_date = getattr(entry, \"due_date\")\n",
    "    closed_date = getattr(entry, \"Closed_date\")\n",
    "\n",
    "    if entry_id and status and due_date:\n",
    "        due_date = pd.to_datetime(due_date).date()\n",
    "        closed_date = (\n",
    "            pd.to_datetime(closed_date).date() if closed_date and not pd.isnull(closed_date) else current_date\n",
    "        )\n",
    "\n",
    "        if entry_id not in red_ids and (\n",
    "            status.lower().startswith(\"closed\") or due_date > closed_date\n",
    "        ):\n",
    "            # Check if the current due date is the latest for the ID\n",
    "            if entry_id not in latest_due_dates or due_date > latest_due_dates[entry_id]:\n",
    "                latest_due_dates[entry_id] = due_date\n",
    "\n",
    "# Add the IDs with the latest due dates to the overdue_ids set\n",
    "overdue_ids.update(latest_due_dates.keys())\n",
    "\n",
    "print(overdue_ids)"
   ]
  },
  {
   "cell_type": "code",
   "execution_count": 25,
   "id": "19f1e897",
   "metadata": {},
   "outputs": [
    {
     "name": "stdout",
     "output_type": "stream",
     "text": [
      "{1, 3, 5, 6, 'abc-4'}\n"
     ]
    }
   ],
   "source": [
    "# Get the current date\n",
    "current_date = datetime.now().date()\n",
    "\n",
    "# Set to store the IDs marked as red\n",
    "red_ids = set()\n",
    "\n",
    "# Set to store the IDs that are overdue and not marked as red\n",
    "overdue_ids = set()\n",
    "\n",
    "# Iterate through the data to find IDs marked as red\n",
    "for entry in data.itertuples(index=False):\n",
    "    color_tag = getattr(entry, \"color tag\", \"\")\n",
    "    if \"red\" in color_tag.lower() or \"dark red\" in color_tag.lower():\n",
    "        red_ids.add(entry.ID)\n",
    "\n",
    "# Iterate through the data to check for overdue IDs\n",
    "for entry in data.itertuples(index=False):\n",
    "    entry_id = getattr(entry, \"ID\")\n",
    "    status = getattr(entry, \"Status\")\n",
    "    due_date = getattr(entry, \"due_date\")\n",
    "    closed_date = getattr(entry, \"Closed_date\")\n",
    "\n",
    "    if entry_id and status and due_date:\n",
    "        due_date = pd.to_datetime(due_date).date()\n",
    "        closed_date = (\n",
    "            pd.to_datetime(closed_date).date() if closed_date and not pd.isnull(closed_date) else current_date\n",
    "        )\n",
    "\n",
    "        if entry_id not in red_ids and (\n",
    "            status.lower().startswith(\"closed\") or due_date > closed_date\n",
    "        ):\n",
    "            overdue_ids.add(entry_id)\n",
    "\n",
    "print(overdue_ids)"
   ]
  },
  {
   "cell_type": "code",
   "execution_count": 26,
   "id": "3c1af46f",
   "metadata": {},
   "outputs": [
    {
     "name": "stdout",
     "output_type": "stream",
     "text": [
      "{1, 3, 5, 6, 'abc-4'}\n"
     ]
    }
   ],
   "source": [
    "\n",
    "# Get the current date\n",
    "current_date = datetime.now().date()\n",
    "\n",
    "# Set to store the IDs marked as red\n",
    "red_ids = set()\n",
    "\n",
    "# Set to store the IDs that are overdue and not marked as red\n",
    "overdue_ids = set()\n",
    "\n",
    "# Iterate through the data to find IDs marked as red\n",
    "for entry in data.itertuples(index=False):\n",
    "    color_tag = getattr(entry, \"color tag\", \"\")\n",
    "    if \"red\" in color_tag.lower() or \"dark red\" in color_tag.lower():\n",
    "        red_ids.add(entry.ID)\n",
    "\n",
    "# Iterate through the data to check for overdue IDs\n",
    "for entry in data.itertuples(index=False):\n",
    "    entry_id = getattr(entry, \"ID\")\n",
    "    status = getattr(entry, \"Status\")\n",
    "    due_date = getattr(entry, \"due_date\")\n",
    "    closed_date = getattr(entry, \"Closed_date\")\n",
    "\n",
    "    if entry_id and status and due_date:\n",
    "        due_date = pd.to_datetime(due_date).date()\n",
    "        closed_date = (\n",
    "            pd.to_datetime(closed_date).date() if closed_date and not pd.isnull(closed_date) else current_date\n",
    "        )\n",
    "\n",
    "        if entry_id not in red_ids and (\n",
    "            status.lower().startswith(\"closed\") or (due_date > closed_date and status.lower() != \"closed\")\n",
    "        ):\n",
    "            overdue_ids.add(entry_id)\n",
    "\n",
    "print(overdue_ids)"
   ]
  },
  {
   "cell_type": "code",
   "execution_count": 77,
   "id": "f6d53cc6",
   "metadata": {},
   "outputs": [
    {
     "name": "stdout",
     "output_type": "stream",
     "text": [
      "{1, 3, 5, 6, 'abc-4'}\n"
     ]
    }
   ],
   "source": [
    "# Get the current date\n",
    "current_date = datetime.now().date()\n",
    "\n",
    "# Set to store the IDs marked as red\n",
    "red_ids = set()\n",
    "\n",
    "# Set to store the IDs that are overdue and not marked as red\n",
    "overdue_ids = set()\n",
    "\n",
    "# Iterate through the data to find IDs marked as red\n",
    "for entry in data.itertuples(index=False):\n",
    "    color_tag = getattr(entry, \"color tag\", \"\")\n",
    "    if \"red\" in color_tag.lower() or \"dark red\" in color_tag.lower():\n",
    "        red_ids.add(entry.ID)\n",
    "\n",
    "# Iterate through the data to check for overdue IDs\n",
    "for entry in data.itertuples(index=False):\n",
    "    entry_id = getattr(entry, \"ID\")\n",
    "    status = getattr(entry, \"Status\")\n",
    "    due_date = getattr(entry, \"due_date\")\n",
    "    closed_date = getattr(entry, \"Closed_date\")\n",
    "\n",
    "    if entry_id and status and due_date:\n",
    "        due_date = pd.to_datetime(due_date, format=\"%Y-%m-%d\").date()\n",
    "        closed_date = (\n",
    "            pd.to_datetime(closed_date, format=\"%Y-%m-%d\").date() if closed_date and not pd.isnull(closed_date) else current_date\n",
    "        )\n",
    "\n",
    "        if entry_id not in red_ids and (\n",
    "            status.lower().startswith(\"closed\") or (due_date > closed_date and \"closed\" not in status.lower())\n",
    "        ):\n",
    "            overdue_ids.add(entry_id)\n",
    "\n",
    "print(overdue_ids)"
   ]
  },
  {
   "cell_type": "code",
   "execution_count": 79,
   "id": "ec473cd8",
   "metadata": {},
   "outputs": [
    {
     "name": "stdout",
     "output_type": "stream",
     "text": [
      "{1, 3, 5, 6, 'abc-4'}\n"
     ]
    }
   ],
   "source": [
    "# Get the current date\n",
    "data.drop_duplicates(inplace = True)\n",
    "current_date = datetime.now().date()\n",
    "\n",
    "# Set to store the IDs marked as red\n",
    "red_ids = set()\n",
    "\n",
    "# Set to store the IDs that are overdue and not marked as red\n",
    "overdue_ids = set()\n",
    "\n",
    "# Iterate through the data to find IDs marked as red\n",
    "for entry in data.itertuples(index=False):\n",
    "    color_tag = getattr(entry, \"color tag\", \"\")\n",
    "    if \"red\" in color_tag.lower():\n",
    "        red_ids.add(entry.ID)\n",
    "\n",
    "# Iterate through the data to check for overdue IDs\n",
    "for entry in data.itertuples(index=False):\n",
    "    entry_id = getattr(entry, \"ID\")\n",
    "    status = getattr(entry, \"Status\")\n",
    "    due_date = getattr(entry, \"due_date\")\n",
    "    closed_date = getattr(entry, \"Closed_date\")\n",
    "\n",
    "    if entry_id and status and due_date:\n",
    "        due_date = pd.to_datetime(due_date, format=\"%Y-%m-%d\").date()\n",
    "        closed_date = (\n",
    "            pd.to_datetime(closed_date, format=\"%Y-%m-%d\").date() if closed_date and not pd.isnull(closed_date) else current_date\n",
    "        )\n",
    "\n",
    "        if entry_id not in red_ids and (\n",
    "            (status.lower().startswith(\"closed\") or \"closed\" in status.lower()) or (status.lower() != \"closed\" and due_date > closed_date)\n",
    "        ):\n",
    "            overdue_ids.add(entry_id)\n",
    "\n",
    "print(overdue_ids)"
   ]
  },
  {
   "cell_type": "code",
   "execution_count": 80,
   "id": "b0ab0e18",
   "metadata": {},
   "outputs": [
    {
     "ename": "AttributeError",
     "evalue": "'float' object has no attribute 'lower'",
     "output_type": "error",
     "traceback": [
      "\u001b[1;31m---------------------------------------------------------------------------\u001b[0m",
      "\u001b[1;31mAttributeError\u001b[0m                            Traceback (most recent call last)",
      "Input \u001b[1;32mIn [80]\u001b[0m, in \u001b[0;36m<cell line: 11>\u001b[1;34m()\u001b[0m\n\u001b[0;32m     11\u001b[0m \u001b[38;5;28;01mfor\u001b[39;00m index, row \u001b[38;5;129;01min\u001b[39;00m df\u001b[38;5;241m.\u001b[39miterrows():\n\u001b[0;32m     12\u001b[0m     color_tag \u001b[38;5;241m=\u001b[39m row[\u001b[38;5;124m\"\u001b[39m\u001b[38;5;124mcolor tag\u001b[39m\u001b[38;5;124m\"\u001b[39m]\n\u001b[1;32m---> 13\u001b[0m     \u001b[38;5;28;01mif\u001b[39;00m \u001b[38;5;124m\"\u001b[39m\u001b[38;5;124mred\u001b[39m\u001b[38;5;124m\"\u001b[39m \u001b[38;5;129;01min\u001b[39;00m \u001b[43mcolor_tag\u001b[49m\u001b[38;5;241;43m.\u001b[39;49m\u001b[43mlower\u001b[49m() \u001b[38;5;129;01mor\u001b[39;00m \u001b[38;5;124m\"\u001b[39m\u001b[38;5;124mdark red\u001b[39m\u001b[38;5;124m\"\u001b[39m \u001b[38;5;129;01min\u001b[39;00m color_tag\u001b[38;5;241m.\u001b[39mlower():\n\u001b[0;32m     14\u001b[0m         red_ids\u001b[38;5;241m.\u001b[39madd(row[\u001b[38;5;124m\"\u001b[39m\u001b[38;5;124mID\u001b[39m\u001b[38;5;124m\"\u001b[39m])\n\u001b[0;32m     16\u001b[0m \u001b[38;5;66;03m# Filter the data based on the given conditions\u001b[39;00m\n",
      "\u001b[1;31mAttributeError\u001b[0m: 'float' object has no attribute 'lower'"
     ]
    }
   ],
   "source": [
    "df[\"due_date\"] = pd.to_datetime(df[\"due_date\"], format=\"%d-%m-%Y\", errors=\"coerce\")\n",
    "df[\"Closed_date\"] = pd.to_datetime(df[\"Closed_date\"], format=\"%d-%m-%Y\", errors=\"coerce\")\n",
    "\n",
    "# Get the current date\n",
    "current_date = pd.to_datetime(\"today\").date()\n",
    "\n",
    "# Set of IDs marked as red\n",
    "red_ids = set()\n",
    "\n",
    "# Iterate through the data to find IDs marked as red\n",
    "for index, row in df.iterrows():\n",
    "    color_tag = row[\"color tag\"]\n",
    "    if \"red\" in color_tag.lower() or \"dark red\" in color_tag.lower():\n",
    "        red_ids.add(row[\"ID\"])\n",
    "\n",
    "# Filter the data based on the given conditions\n",
    "filtered_data = df[\n",
    "    (~df[\"ID\"].isin(red_ids)) &\n",
    "    (\n",
    "        (df[\"status\"] != \"closed\") |\n",
    "        ((df[\"status\"] == \"closed\") & (df[\"due_date\"] > df[\"Closed_date\"]))\n",
    "    ) &\n",
    "    (df[\"due_date\"] > current_date)\n",
    "]\n",
    "\n",
    "# Get the unique IDs from the filtered data\n",
    "output_ids = filtered_data[\"ID\"].unique()\n",
    "\n",
    "# Print the output IDs\n",
    "print(output_ids)"
   ]
  },
  {
   "cell_type": "code",
   "execution_count": 82,
   "id": "23a3cf09",
   "metadata": {},
   "outputs": [
    {
     "data": {
      "text/html": [
       "<div>\n",
       "<style scoped>\n",
       "    .dataframe tbody tr th:only-of-type {\n",
       "        vertical-align: middle;\n",
       "    }\n",
       "\n",
       "    .dataframe tbody tr th {\n",
       "        vertical-align: top;\n",
       "    }\n",
       "\n",
       "    .dataframe thead th {\n",
       "        text-align: right;\n",
       "    }\n",
       "</style>\n",
       "<table border=\"1\" class=\"dataframe\">\n",
       "  <thead>\n",
       "    <tr style=\"text-align: right;\">\n",
       "      <th></th>\n",
       "      <th>ID</th>\n",
       "      <th>Status</th>\n",
       "      <th>color tag</th>\n",
       "      <th>due_date</th>\n",
       "      <th>Closed_date</th>\n",
       "      <th>status update date</th>\n",
       "    </tr>\n",
       "  </thead>\n",
       "  <tbody>\n",
       "    <tr>\n",
       "      <th>0</th>\n",
       "      <td>1</td>\n",
       "      <td>draf</td>\n",
       "      <td>NaN</td>\n",
       "      <td>2020-05-20</td>\n",
       "      <td>NaT</td>\n",
       "      <td>NaT</td>\n",
       "    </tr>\n",
       "  </tbody>\n",
       "</table>\n",
       "</div>"
      ],
      "text/plain": [
       "  ID Status color tag   due_date Closed_date status update date\n",
       "0  1   draf       NaN 2020-05-20         NaT                NaT"
      ]
     },
     "execution_count": 82,
     "metadata": {},
     "output_type": "execute_result"
    }
   ],
   "source": [
    "df.head(1)"
   ]
  },
  {
   "cell_type": "code",
   "execution_count": 85,
   "id": "d8a945c3",
   "metadata": {},
   "outputs": [
    {
     "ename": "TypeError",
     "evalue": "Invalid comparison between dtype=datetime64[ns] and date",
     "output_type": "error",
     "traceback": [
      "\u001b[1;31m---------------------------------------------------------------------------\u001b[0m",
      "\u001b[1;31mInvalidComparison\u001b[0m                         Traceback (most recent call last)",
      "File \u001b[1;32m~\\anaconda3\\lib\\site-packages\\pandas\\core\\arrays\\datetimelike.py:1008\u001b[0m, in \u001b[0;36mDatetimeLikeArrayMixin._cmp_method\u001b[1;34m(self, other, op)\u001b[0m\n\u001b[0;32m   1007\u001b[0m \u001b[38;5;28;01mtry\u001b[39;00m:\n\u001b[1;32m-> 1008\u001b[0m     other \u001b[38;5;241m=\u001b[39m \u001b[38;5;28;43mself\u001b[39;49m\u001b[38;5;241;43m.\u001b[39;49m\u001b[43m_validate_comparison_value\u001b[49m\u001b[43m(\u001b[49m\u001b[43mother\u001b[49m\u001b[43m)\u001b[49m\n\u001b[0;32m   1009\u001b[0m \u001b[38;5;28;01mexcept\u001b[39;00m InvalidComparison:\n",
      "File \u001b[1;32m~\\anaconda3\\lib\\site-packages\\pandas\\core\\arrays\\datetimelike.py:542\u001b[0m, in \u001b[0;36mDatetimeLikeArrayMixin._validate_comparison_value\u001b[1;34m(self, other)\u001b[0m\n\u001b[0;32m    541\u001b[0m \u001b[38;5;28;01melif\u001b[39;00m \u001b[38;5;129;01mnot\u001b[39;00m is_list_like(other):\n\u001b[1;32m--> 542\u001b[0m     \u001b[38;5;28;01mraise\u001b[39;00m InvalidComparison(other)\n\u001b[0;32m    544\u001b[0m \u001b[38;5;28;01melif\u001b[39;00m \u001b[38;5;28mlen\u001b[39m(other) \u001b[38;5;241m!=\u001b[39m \u001b[38;5;28mlen\u001b[39m(\u001b[38;5;28mself\u001b[39m):\n",
      "\u001b[1;31mInvalidComparison\u001b[0m: 2023-05-26",
      "\nDuring handling of the above exception, another exception occurred:\n",
      "\u001b[1;31mTypeError\u001b[0m                                 Traceback (most recent call last)",
      "Input \u001b[1;32mIn [85]\u001b[0m, in \u001b[0;36m<cell line: 18>\u001b[1;34m()\u001b[0m\n\u001b[0;32m     15\u001b[0m         red_ids\u001b[38;5;241m.\u001b[39madd(row[\u001b[38;5;124m\"\u001b[39m\u001b[38;5;124mID\u001b[39m\u001b[38;5;124m\"\u001b[39m])\n\u001b[0;32m     17\u001b[0m \u001b[38;5;66;03m# Filter the data based on the given conditions\u001b[39;00m\n\u001b[0;32m     18\u001b[0m filtered_data \u001b[38;5;241m=\u001b[39m df[\n\u001b[0;32m     19\u001b[0m     (\u001b[38;5;241m~\u001b[39mdf[\u001b[38;5;124m\"\u001b[39m\u001b[38;5;124mID\u001b[39m\u001b[38;5;124m\"\u001b[39m]\u001b[38;5;241m.\u001b[39misin(red_ids)) \u001b[38;5;241m&\u001b[39m\n\u001b[0;32m     20\u001b[0m     (\n\u001b[0;32m     21\u001b[0m         (df[\u001b[38;5;124m\"\u001b[39m\u001b[38;5;124mStatus\u001b[39m\u001b[38;5;124m\"\u001b[39m] \u001b[38;5;241m!=\u001b[39m \u001b[38;5;124m\"\u001b[39m\u001b[38;5;124mclosed\u001b[39m\u001b[38;5;124m\"\u001b[39m) \u001b[38;5;241m|\u001b[39m\n\u001b[0;32m     22\u001b[0m         ((df[\u001b[38;5;124m\"\u001b[39m\u001b[38;5;124mStatus\u001b[39m\u001b[38;5;124m\"\u001b[39m] \u001b[38;5;241m==\u001b[39m \u001b[38;5;124m\"\u001b[39m\u001b[38;5;124mclosed\u001b[39m\u001b[38;5;124m\"\u001b[39m) \u001b[38;5;241m&\u001b[39m (df[\u001b[38;5;124m\"\u001b[39m\u001b[38;5;124mdue_date\u001b[39m\u001b[38;5;124m\"\u001b[39m] \u001b[38;5;241m>\u001b[39m df[\u001b[38;5;124m\"\u001b[39m\u001b[38;5;124mClosed_date\u001b[39m\u001b[38;5;124m\"\u001b[39m]\u001b[38;5;241m.\u001b[39mfillna(current_date)))\n\u001b[0;32m     23\u001b[0m     ) \u001b[38;5;241m&\u001b[39m\n\u001b[1;32m---> 24\u001b[0m     (\u001b[43mdf\u001b[49m\u001b[43m[\u001b[49m\u001b[38;5;124;43m\"\u001b[39;49m\u001b[38;5;124;43mdue_date\u001b[39;49m\u001b[38;5;124;43m\"\u001b[39;49m\u001b[43m]\u001b[49m\u001b[43m \u001b[49m\u001b[38;5;241;43m>\u001b[39;49m\u001b[43m \u001b[49m\u001b[43mcurrent_date\u001b[49m)\n\u001b[0;32m     25\u001b[0m ]\n\u001b[0;32m     27\u001b[0m \u001b[38;5;66;03m# Get the unique IDs from the filtered data\u001b[39;00m\n\u001b[0;32m     28\u001b[0m output_ids \u001b[38;5;241m=\u001b[39m filtered_data[\u001b[38;5;124m\"\u001b[39m\u001b[38;5;124mID\u001b[39m\u001b[38;5;124m\"\u001b[39m]\u001b[38;5;241m.\u001b[39munique()\n",
      "File \u001b[1;32m~\\anaconda3\\lib\\site-packages\\pandas\\core\\ops\\common.py:70\u001b[0m, in \u001b[0;36m_unpack_zerodim_and_defer.<locals>.new_method\u001b[1;34m(self, other)\u001b[0m\n\u001b[0;32m     66\u001b[0m             \u001b[38;5;28;01mreturn\u001b[39;00m \u001b[38;5;28mNotImplemented\u001b[39m\n\u001b[0;32m     68\u001b[0m other \u001b[38;5;241m=\u001b[39m item_from_zerodim(other)\n\u001b[1;32m---> 70\u001b[0m \u001b[38;5;28;01mreturn\u001b[39;00m \u001b[43mmethod\u001b[49m\u001b[43m(\u001b[49m\u001b[38;5;28;43mself\u001b[39;49m\u001b[43m,\u001b[49m\u001b[43m \u001b[49m\u001b[43mother\u001b[49m\u001b[43m)\u001b[49m\n",
      "File \u001b[1;32m~\\anaconda3\\lib\\site-packages\\pandas\\core\\arraylike.py:56\u001b[0m, in \u001b[0;36mOpsMixin.__gt__\u001b[1;34m(self, other)\u001b[0m\n\u001b[0;32m     54\u001b[0m \u001b[38;5;129m@unpack_zerodim_and_defer\u001b[39m(\u001b[38;5;124m\"\u001b[39m\u001b[38;5;124m__gt__\u001b[39m\u001b[38;5;124m\"\u001b[39m)\n\u001b[0;32m     55\u001b[0m \u001b[38;5;28;01mdef\u001b[39;00m \u001b[38;5;21m__gt__\u001b[39m(\u001b[38;5;28mself\u001b[39m, other):\n\u001b[1;32m---> 56\u001b[0m     \u001b[38;5;28;01mreturn\u001b[39;00m \u001b[38;5;28;43mself\u001b[39;49m\u001b[38;5;241;43m.\u001b[39;49m\u001b[43m_cmp_method\u001b[49m\u001b[43m(\u001b[49m\u001b[43mother\u001b[49m\u001b[43m,\u001b[49m\u001b[43m \u001b[49m\u001b[43moperator\u001b[49m\u001b[38;5;241;43m.\u001b[39;49m\u001b[43mgt\u001b[49m\u001b[43m)\u001b[49m\n",
      "File \u001b[1;32m~\\anaconda3\\lib\\site-packages\\pandas\\core\\series.py:5623\u001b[0m, in \u001b[0;36mSeries._cmp_method\u001b[1;34m(self, other, op)\u001b[0m\n\u001b[0;32m   5620\u001b[0m rvalues \u001b[38;5;241m=\u001b[39m extract_array(other, extract_numpy\u001b[38;5;241m=\u001b[39m\u001b[38;5;28;01mTrue\u001b[39;00m, extract_range\u001b[38;5;241m=\u001b[39m\u001b[38;5;28;01mTrue\u001b[39;00m)\n\u001b[0;32m   5622\u001b[0m \u001b[38;5;28;01mwith\u001b[39;00m np\u001b[38;5;241m.\u001b[39merrstate(\u001b[38;5;28mall\u001b[39m\u001b[38;5;241m=\u001b[39m\u001b[38;5;124m\"\u001b[39m\u001b[38;5;124mignore\u001b[39m\u001b[38;5;124m\"\u001b[39m):\n\u001b[1;32m-> 5623\u001b[0m     res_values \u001b[38;5;241m=\u001b[39m \u001b[43mops\u001b[49m\u001b[38;5;241;43m.\u001b[39;49m\u001b[43mcomparison_op\u001b[49m\u001b[43m(\u001b[49m\u001b[43mlvalues\u001b[49m\u001b[43m,\u001b[49m\u001b[43m \u001b[49m\u001b[43mrvalues\u001b[49m\u001b[43m,\u001b[49m\u001b[43m \u001b[49m\u001b[43mop\u001b[49m\u001b[43m)\u001b[49m\n\u001b[0;32m   5625\u001b[0m \u001b[38;5;28;01mreturn\u001b[39;00m \u001b[38;5;28mself\u001b[39m\u001b[38;5;241m.\u001b[39m_construct_result(res_values, name\u001b[38;5;241m=\u001b[39mres_name)\n",
      "File \u001b[1;32m~\\anaconda3\\lib\\site-packages\\pandas\\core\\ops\\array_ops.py:269\u001b[0m, in \u001b[0;36mcomparison_op\u001b[1;34m(left, right, op)\u001b[0m\n\u001b[0;32m    260\u001b[0m         \u001b[38;5;28;01mraise\u001b[39;00m \u001b[38;5;167;01mValueError\u001b[39;00m(\n\u001b[0;32m    261\u001b[0m             \u001b[38;5;124m\"\u001b[39m\u001b[38;5;124mLengths must match to compare\u001b[39m\u001b[38;5;124m\"\u001b[39m, lvalues\u001b[38;5;241m.\u001b[39mshape, rvalues\u001b[38;5;241m.\u001b[39mshape\n\u001b[0;32m    262\u001b[0m         )\n\u001b[0;32m    264\u001b[0m \u001b[38;5;28;01mif\u001b[39;00m should_extension_dispatch(lvalues, rvalues) \u001b[38;5;129;01mor\u001b[39;00m (\n\u001b[0;32m    265\u001b[0m     (\u001b[38;5;28misinstance\u001b[39m(rvalues, (Timedelta, BaseOffset, Timestamp)) \u001b[38;5;129;01mor\u001b[39;00m right \u001b[38;5;129;01mis\u001b[39;00m NaT)\n\u001b[0;32m    266\u001b[0m     \u001b[38;5;129;01mand\u001b[39;00m \u001b[38;5;129;01mnot\u001b[39;00m is_object_dtype(lvalues\u001b[38;5;241m.\u001b[39mdtype)\n\u001b[0;32m    267\u001b[0m ):\n\u001b[0;32m    268\u001b[0m     \u001b[38;5;66;03m# Call the method on lvalues\u001b[39;00m\n\u001b[1;32m--> 269\u001b[0m     res_values \u001b[38;5;241m=\u001b[39m \u001b[43mop\u001b[49m\u001b[43m(\u001b[49m\u001b[43mlvalues\u001b[49m\u001b[43m,\u001b[49m\u001b[43m \u001b[49m\u001b[43mrvalues\u001b[49m\u001b[43m)\u001b[49m\n\u001b[0;32m    271\u001b[0m \u001b[38;5;28;01melif\u001b[39;00m is_scalar(rvalues) \u001b[38;5;129;01mand\u001b[39;00m isna(rvalues):  \u001b[38;5;66;03m# TODO: but not pd.NA?\u001b[39;00m\n\u001b[0;32m    272\u001b[0m     \u001b[38;5;66;03m# numpy does not like comparisons vs None\u001b[39;00m\n\u001b[0;32m    273\u001b[0m     \u001b[38;5;28;01mif\u001b[39;00m op \u001b[38;5;129;01mis\u001b[39;00m operator\u001b[38;5;241m.\u001b[39mne:\n",
      "File \u001b[1;32m~\\anaconda3\\lib\\site-packages\\pandas\\core\\ops\\common.py:70\u001b[0m, in \u001b[0;36m_unpack_zerodim_and_defer.<locals>.new_method\u001b[1;34m(self, other)\u001b[0m\n\u001b[0;32m     66\u001b[0m             \u001b[38;5;28;01mreturn\u001b[39;00m \u001b[38;5;28mNotImplemented\u001b[39m\n\u001b[0;32m     68\u001b[0m other \u001b[38;5;241m=\u001b[39m item_from_zerodim(other)\n\u001b[1;32m---> 70\u001b[0m \u001b[38;5;28;01mreturn\u001b[39;00m \u001b[43mmethod\u001b[49m\u001b[43m(\u001b[49m\u001b[38;5;28;43mself\u001b[39;49m\u001b[43m,\u001b[49m\u001b[43m \u001b[49m\u001b[43mother\u001b[49m\u001b[43m)\u001b[49m\n",
      "File \u001b[1;32m~\\anaconda3\\lib\\site-packages\\pandas\\core\\arraylike.py:56\u001b[0m, in \u001b[0;36mOpsMixin.__gt__\u001b[1;34m(self, other)\u001b[0m\n\u001b[0;32m     54\u001b[0m \u001b[38;5;129m@unpack_zerodim_and_defer\u001b[39m(\u001b[38;5;124m\"\u001b[39m\u001b[38;5;124m__gt__\u001b[39m\u001b[38;5;124m\"\u001b[39m)\n\u001b[0;32m     55\u001b[0m \u001b[38;5;28;01mdef\u001b[39;00m \u001b[38;5;21m__gt__\u001b[39m(\u001b[38;5;28mself\u001b[39m, other):\n\u001b[1;32m---> 56\u001b[0m     \u001b[38;5;28;01mreturn\u001b[39;00m \u001b[38;5;28;43mself\u001b[39;49m\u001b[38;5;241;43m.\u001b[39;49m\u001b[43m_cmp_method\u001b[49m\u001b[43m(\u001b[49m\u001b[43mother\u001b[49m\u001b[43m,\u001b[49m\u001b[43m \u001b[49m\u001b[43moperator\u001b[49m\u001b[38;5;241;43m.\u001b[39;49m\u001b[43mgt\u001b[49m\u001b[43m)\u001b[49m\n",
      "File \u001b[1;32m~\\anaconda3\\lib\\site-packages\\pandas\\core\\arrays\\datetimelike.py:1010\u001b[0m, in \u001b[0;36mDatetimeLikeArrayMixin._cmp_method\u001b[1;34m(self, other, op)\u001b[0m\n\u001b[0;32m   1008\u001b[0m     other \u001b[38;5;241m=\u001b[39m \u001b[38;5;28mself\u001b[39m\u001b[38;5;241m.\u001b[39m_validate_comparison_value(other)\n\u001b[0;32m   1009\u001b[0m \u001b[38;5;28;01mexcept\u001b[39;00m InvalidComparison:\n\u001b[1;32m-> 1010\u001b[0m     \u001b[38;5;28;01mreturn\u001b[39;00m \u001b[43minvalid_comparison\u001b[49m\u001b[43m(\u001b[49m\u001b[38;5;28;43mself\u001b[39;49m\u001b[43m,\u001b[49m\u001b[43m \u001b[49m\u001b[43mother\u001b[49m\u001b[43m,\u001b[49m\u001b[43m \u001b[49m\u001b[43mop\u001b[49m\u001b[43m)\u001b[49m\n\u001b[0;32m   1012\u001b[0m dtype \u001b[38;5;241m=\u001b[39m \u001b[38;5;28mgetattr\u001b[39m(other, \u001b[38;5;124m\"\u001b[39m\u001b[38;5;124mdtype\u001b[39m\u001b[38;5;124m\"\u001b[39m, \u001b[38;5;28;01mNone\u001b[39;00m)\n\u001b[0;32m   1013\u001b[0m \u001b[38;5;28;01mif\u001b[39;00m is_object_dtype(dtype):\n\u001b[0;32m   1014\u001b[0m     \u001b[38;5;66;03m# We have to use comp_method_OBJECT_ARRAY instead of numpy\u001b[39;00m\n\u001b[0;32m   1015\u001b[0m     \u001b[38;5;66;03m#  comparison otherwise it would fail to raise when\u001b[39;00m\n\u001b[0;32m   1016\u001b[0m     \u001b[38;5;66;03m#  comparing tz-aware and tz-naive\u001b[39;00m\n",
      "File \u001b[1;32m~\\anaconda3\\lib\\site-packages\\pandas\\core\\ops\\invalid.py:34\u001b[0m, in \u001b[0;36minvalid_comparison\u001b[1;34m(left, right, op)\u001b[0m\n\u001b[0;32m     32\u001b[0m \u001b[38;5;28;01melse\u001b[39;00m:\n\u001b[0;32m     33\u001b[0m     typ \u001b[38;5;241m=\u001b[39m \u001b[38;5;28mtype\u001b[39m(right)\u001b[38;5;241m.\u001b[39m\u001b[38;5;18m__name__\u001b[39m\n\u001b[1;32m---> 34\u001b[0m     \u001b[38;5;28;01mraise\u001b[39;00m \u001b[38;5;167;01mTypeError\u001b[39;00m(\u001b[38;5;124mf\u001b[39m\u001b[38;5;124m\"\u001b[39m\u001b[38;5;124mInvalid comparison between dtype=\u001b[39m\u001b[38;5;132;01m{\u001b[39;00mleft\u001b[38;5;241m.\u001b[39mdtype\u001b[38;5;132;01m}\u001b[39;00m\u001b[38;5;124m and \u001b[39m\u001b[38;5;132;01m{\u001b[39;00mtyp\u001b[38;5;132;01m}\u001b[39;00m\u001b[38;5;124m\"\u001b[39m)\n\u001b[0;32m     35\u001b[0m \u001b[38;5;28;01mreturn\u001b[39;00m res_values\n",
      "\u001b[1;31mTypeError\u001b[0m: Invalid comparison between dtype=datetime64[ns] and date"
     ]
    }
   ],
   "source": [
    "\n",
    "# Convert the \"due_date\" and \"Closed_date\" columns to datetime.date\n",
    "df[\"due_date\"] = pd.to_datetime(df[\"due_date\"], format=\"%d-%m-%Y\", errors=\"coerce\").dt.date\n",
    "df[\"Closed_date\"] = pd.to_datetime(df[\"Closed_date\"], format=\"%d-%m-%Y\", errors=\"coerce\").dt.date\n",
    "\n",
    "# Get the current date\n",
    "current_date = date.today()\n",
    "\n",
    "# Set of IDs marked as red\n",
    "red_ids = set()\n",
    "\n",
    "# Iterate through the data to find IDs marked as red\n",
    "for index, row in df.iterrows():\n",
    "    color_tag = str(row[\"color tag\"])\n",
    "    if \"red\" in color_tag.lower() or \"dark red\" in color_tag.lower():\n",
    "        red_ids.add(row[\"ID\"])\n",
    "\n",
    "# Filter the data based on the given conditions\n",
    "filtered_data = df[\n",
    "    (~df[\"ID\"].isin(red_ids)) &\n",
    "    (\n",
    "        (df[\"Status\"] != \"closed\") |\n",
    "        ((df[\"Status\"] == \"closed\") & (df[\"due_date\"] > df[\"Closed_date\"].fillna(current_date)))\n",
    "    ) &\n",
    "    (df[\"due_date\"] > current_date)\n",
    "]\n",
    "\n",
    "# Get the unique IDs from the filtered data\n",
    "output_ids = filtered_data[\"ID\"].unique()\n",
    "\n",
    "# Print the output IDs\n",
    "print(output_ids)"
   ]
  },
  {
   "cell_type": "code",
   "execution_count": 94,
   "id": "95e6de4b",
   "metadata": {},
   "outputs": [
    {
     "ename": "TypeError",
     "evalue": "Invalid comparison between dtype=datetime64[ns] and date",
     "output_type": "error",
     "traceback": [
      "\u001b[1;31m---------------------------------------------------------------------------\u001b[0m",
      "\u001b[1;31mInvalidComparison\u001b[0m                         Traceback (most recent call last)",
      "File \u001b[1;32m~\\anaconda3\\lib\\site-packages\\pandas\\core\\arrays\\datetimelike.py:1008\u001b[0m, in \u001b[0;36mDatetimeLikeArrayMixin._cmp_method\u001b[1;34m(self, other, op)\u001b[0m\n\u001b[0;32m   1007\u001b[0m \u001b[38;5;28;01mtry\u001b[39;00m:\n\u001b[1;32m-> 1008\u001b[0m     other \u001b[38;5;241m=\u001b[39m \u001b[38;5;28;43mself\u001b[39;49m\u001b[38;5;241;43m.\u001b[39;49m\u001b[43m_validate_comparison_value\u001b[49m\u001b[43m(\u001b[49m\u001b[43mother\u001b[49m\u001b[43m)\u001b[49m\n\u001b[0;32m   1009\u001b[0m \u001b[38;5;28;01mexcept\u001b[39;00m InvalidComparison:\n",
      "File \u001b[1;32m~\\anaconda3\\lib\\site-packages\\pandas\\core\\arrays\\datetimelike.py:542\u001b[0m, in \u001b[0;36mDatetimeLikeArrayMixin._validate_comparison_value\u001b[1;34m(self, other)\u001b[0m\n\u001b[0;32m    541\u001b[0m \u001b[38;5;28;01melif\u001b[39;00m \u001b[38;5;129;01mnot\u001b[39;00m is_list_like(other):\n\u001b[1;32m--> 542\u001b[0m     \u001b[38;5;28;01mraise\u001b[39;00m InvalidComparison(other)\n\u001b[0;32m    544\u001b[0m \u001b[38;5;28;01melif\u001b[39;00m \u001b[38;5;28mlen\u001b[39m(other) \u001b[38;5;241m!=\u001b[39m \u001b[38;5;28mlen\u001b[39m(\u001b[38;5;28mself\u001b[39m):\n",
      "\u001b[1;31mInvalidComparison\u001b[0m: 2023-05-26",
      "\nDuring handling of the above exception, another exception occurred:\n",
      "\u001b[1;31mTypeError\u001b[0m                                 Traceback (most recent call last)",
      "Input \u001b[1;32mIn [94]\u001b[0m, in \u001b[0;36m<cell line: 18>\u001b[1;34m()\u001b[0m\n\u001b[0;32m     15\u001b[0m         red_ids\u001b[38;5;241m.\u001b[39madd(row[\u001b[38;5;124m\"\u001b[39m\u001b[38;5;124mID\u001b[39m\u001b[38;5;124m\"\u001b[39m])\n\u001b[0;32m     17\u001b[0m \u001b[38;5;66;03m# Filter the data based on the given conditions\u001b[39;00m\n\u001b[0;32m     18\u001b[0m filtered_data \u001b[38;5;241m=\u001b[39m df[\n\u001b[0;32m     19\u001b[0m     (\u001b[38;5;241m~\u001b[39mdf[\u001b[38;5;124m\"\u001b[39m\u001b[38;5;124mID\u001b[39m\u001b[38;5;124m\"\u001b[39m]\u001b[38;5;241m.\u001b[39misin(red_ids)) \u001b[38;5;241m&\u001b[39m\n\u001b[0;32m     20\u001b[0m     (\n\u001b[0;32m     21\u001b[0m         (df[\u001b[38;5;124m\"\u001b[39m\u001b[38;5;124mStatus\u001b[39m\u001b[38;5;124m\"\u001b[39m] \u001b[38;5;241m!=\u001b[39m \u001b[38;5;124m\"\u001b[39m\u001b[38;5;124mclosed\u001b[39m\u001b[38;5;124m\"\u001b[39m) \u001b[38;5;241m|\u001b[39m\n\u001b[0;32m     22\u001b[0m         ((df[\u001b[38;5;124m\"\u001b[39m\u001b[38;5;124mStatus\u001b[39m\u001b[38;5;124m\"\u001b[39m] \u001b[38;5;241m==\u001b[39m \u001b[38;5;124m\"\u001b[39m\u001b[38;5;124mclosed\u001b[39m\u001b[38;5;124m\"\u001b[39m) \u001b[38;5;241m&\u001b[39m (df[\u001b[38;5;124m\"\u001b[39m\u001b[38;5;124mdue_date\u001b[39m\u001b[38;5;124m\"\u001b[39m]\u001b[38;5;241m.\u001b[39mdt\u001b[38;5;241m.\u001b[39mdate \u001b[38;5;241m>\u001b[39m df[\u001b[38;5;124m\"\u001b[39m\u001b[38;5;124mClosed_date\u001b[39m\u001b[38;5;124m\"\u001b[39m]\u001b[38;5;241m.\u001b[39mdt\u001b[38;5;241m.\u001b[39mdate\u001b[38;5;241m.\u001b[39mfillna(current_date)))\n\u001b[0;32m     23\u001b[0m     ) \u001b[38;5;241m&\u001b[39m\n\u001b[1;32m---> 24\u001b[0m     (\u001b[43mdf\u001b[49m\u001b[43m[\u001b[49m\u001b[38;5;124;43m\"\u001b[39;49m\u001b[38;5;124;43mdue_date\u001b[39;49m\u001b[38;5;124;43m\"\u001b[39;49m\u001b[43m]\u001b[49m\u001b[38;5;241;43m.\u001b[39;49m\u001b[43mdt\u001b[49m\u001b[38;5;241;43m.\u001b[39;49m\u001b[43mdate\u001b[49m\u001b[43m \u001b[49m\u001b[38;5;241;43m>\u001b[39;49m\u001b[43m \u001b[49m\u001b[43mcurrent_date\u001b[49m)\n\u001b[0;32m     25\u001b[0m ]\n\u001b[0;32m     27\u001b[0m \u001b[38;5;66;03m# Get the unique IDs from the filtered data\u001b[39;00m\n\u001b[0;32m     28\u001b[0m output_ids \u001b[38;5;241m=\u001b[39m filtered_data[\u001b[38;5;124m\"\u001b[39m\u001b[38;5;124mID\u001b[39m\u001b[38;5;124m\"\u001b[39m]\u001b[38;5;241m.\u001b[39munique()\n",
      "File \u001b[1;32m~\\anaconda3\\lib\\site-packages\\pandas\\core\\ops\\common.py:70\u001b[0m, in \u001b[0;36m_unpack_zerodim_and_defer.<locals>.new_method\u001b[1;34m(self, other)\u001b[0m\n\u001b[0;32m     66\u001b[0m             \u001b[38;5;28;01mreturn\u001b[39;00m \u001b[38;5;28mNotImplemented\u001b[39m\n\u001b[0;32m     68\u001b[0m other \u001b[38;5;241m=\u001b[39m item_from_zerodim(other)\n\u001b[1;32m---> 70\u001b[0m \u001b[38;5;28;01mreturn\u001b[39;00m \u001b[43mmethod\u001b[49m\u001b[43m(\u001b[49m\u001b[38;5;28;43mself\u001b[39;49m\u001b[43m,\u001b[49m\u001b[43m \u001b[49m\u001b[43mother\u001b[49m\u001b[43m)\u001b[49m\n",
      "File \u001b[1;32m~\\anaconda3\\lib\\site-packages\\pandas\\core\\arraylike.py:56\u001b[0m, in \u001b[0;36mOpsMixin.__gt__\u001b[1;34m(self, other)\u001b[0m\n\u001b[0;32m     54\u001b[0m \u001b[38;5;129m@unpack_zerodim_and_defer\u001b[39m(\u001b[38;5;124m\"\u001b[39m\u001b[38;5;124m__gt__\u001b[39m\u001b[38;5;124m\"\u001b[39m)\n\u001b[0;32m     55\u001b[0m \u001b[38;5;28;01mdef\u001b[39;00m \u001b[38;5;21m__gt__\u001b[39m(\u001b[38;5;28mself\u001b[39m, other):\n\u001b[1;32m---> 56\u001b[0m     \u001b[38;5;28;01mreturn\u001b[39;00m \u001b[38;5;28;43mself\u001b[39;49m\u001b[38;5;241;43m.\u001b[39;49m\u001b[43m_cmp_method\u001b[49m\u001b[43m(\u001b[49m\u001b[43mother\u001b[49m\u001b[43m,\u001b[49m\u001b[43m \u001b[49m\u001b[43moperator\u001b[49m\u001b[38;5;241;43m.\u001b[39;49m\u001b[43mgt\u001b[49m\u001b[43m)\u001b[49m\n",
      "File \u001b[1;32m~\\anaconda3\\lib\\site-packages\\pandas\\core\\series.py:5623\u001b[0m, in \u001b[0;36mSeries._cmp_method\u001b[1;34m(self, other, op)\u001b[0m\n\u001b[0;32m   5620\u001b[0m rvalues \u001b[38;5;241m=\u001b[39m extract_array(other, extract_numpy\u001b[38;5;241m=\u001b[39m\u001b[38;5;28;01mTrue\u001b[39;00m, extract_range\u001b[38;5;241m=\u001b[39m\u001b[38;5;28;01mTrue\u001b[39;00m)\n\u001b[0;32m   5622\u001b[0m \u001b[38;5;28;01mwith\u001b[39;00m np\u001b[38;5;241m.\u001b[39merrstate(\u001b[38;5;28mall\u001b[39m\u001b[38;5;241m=\u001b[39m\u001b[38;5;124m\"\u001b[39m\u001b[38;5;124mignore\u001b[39m\u001b[38;5;124m\"\u001b[39m):\n\u001b[1;32m-> 5623\u001b[0m     res_values \u001b[38;5;241m=\u001b[39m \u001b[43mops\u001b[49m\u001b[38;5;241;43m.\u001b[39;49m\u001b[43mcomparison_op\u001b[49m\u001b[43m(\u001b[49m\u001b[43mlvalues\u001b[49m\u001b[43m,\u001b[49m\u001b[43m \u001b[49m\u001b[43mrvalues\u001b[49m\u001b[43m,\u001b[49m\u001b[43m \u001b[49m\u001b[43mop\u001b[49m\u001b[43m)\u001b[49m\n\u001b[0;32m   5625\u001b[0m \u001b[38;5;28;01mreturn\u001b[39;00m \u001b[38;5;28mself\u001b[39m\u001b[38;5;241m.\u001b[39m_construct_result(res_values, name\u001b[38;5;241m=\u001b[39mres_name)\n",
      "File \u001b[1;32m~\\anaconda3\\lib\\site-packages\\pandas\\core\\ops\\array_ops.py:269\u001b[0m, in \u001b[0;36mcomparison_op\u001b[1;34m(left, right, op)\u001b[0m\n\u001b[0;32m    260\u001b[0m         \u001b[38;5;28;01mraise\u001b[39;00m \u001b[38;5;167;01mValueError\u001b[39;00m(\n\u001b[0;32m    261\u001b[0m             \u001b[38;5;124m\"\u001b[39m\u001b[38;5;124mLengths must match to compare\u001b[39m\u001b[38;5;124m\"\u001b[39m, lvalues\u001b[38;5;241m.\u001b[39mshape, rvalues\u001b[38;5;241m.\u001b[39mshape\n\u001b[0;32m    262\u001b[0m         )\n\u001b[0;32m    264\u001b[0m \u001b[38;5;28;01mif\u001b[39;00m should_extension_dispatch(lvalues, rvalues) \u001b[38;5;129;01mor\u001b[39;00m (\n\u001b[0;32m    265\u001b[0m     (\u001b[38;5;28misinstance\u001b[39m(rvalues, (Timedelta, BaseOffset, Timestamp)) \u001b[38;5;129;01mor\u001b[39;00m right \u001b[38;5;129;01mis\u001b[39;00m NaT)\n\u001b[0;32m    266\u001b[0m     \u001b[38;5;129;01mand\u001b[39;00m \u001b[38;5;129;01mnot\u001b[39;00m is_object_dtype(lvalues\u001b[38;5;241m.\u001b[39mdtype)\n\u001b[0;32m    267\u001b[0m ):\n\u001b[0;32m    268\u001b[0m     \u001b[38;5;66;03m# Call the method on lvalues\u001b[39;00m\n\u001b[1;32m--> 269\u001b[0m     res_values \u001b[38;5;241m=\u001b[39m \u001b[43mop\u001b[49m\u001b[43m(\u001b[49m\u001b[43mlvalues\u001b[49m\u001b[43m,\u001b[49m\u001b[43m \u001b[49m\u001b[43mrvalues\u001b[49m\u001b[43m)\u001b[49m\n\u001b[0;32m    271\u001b[0m \u001b[38;5;28;01melif\u001b[39;00m is_scalar(rvalues) \u001b[38;5;129;01mand\u001b[39;00m isna(rvalues):  \u001b[38;5;66;03m# TODO: but not pd.NA?\u001b[39;00m\n\u001b[0;32m    272\u001b[0m     \u001b[38;5;66;03m# numpy does not like comparisons vs None\u001b[39;00m\n\u001b[0;32m    273\u001b[0m     \u001b[38;5;28;01mif\u001b[39;00m op \u001b[38;5;129;01mis\u001b[39;00m operator\u001b[38;5;241m.\u001b[39mne:\n",
      "File \u001b[1;32m~\\anaconda3\\lib\\site-packages\\pandas\\core\\ops\\common.py:70\u001b[0m, in \u001b[0;36m_unpack_zerodim_and_defer.<locals>.new_method\u001b[1;34m(self, other)\u001b[0m\n\u001b[0;32m     66\u001b[0m             \u001b[38;5;28;01mreturn\u001b[39;00m \u001b[38;5;28mNotImplemented\u001b[39m\n\u001b[0;32m     68\u001b[0m other \u001b[38;5;241m=\u001b[39m item_from_zerodim(other)\n\u001b[1;32m---> 70\u001b[0m \u001b[38;5;28;01mreturn\u001b[39;00m \u001b[43mmethod\u001b[49m\u001b[43m(\u001b[49m\u001b[38;5;28;43mself\u001b[39;49m\u001b[43m,\u001b[49m\u001b[43m \u001b[49m\u001b[43mother\u001b[49m\u001b[43m)\u001b[49m\n",
      "File \u001b[1;32m~\\anaconda3\\lib\\site-packages\\pandas\\core\\arraylike.py:56\u001b[0m, in \u001b[0;36mOpsMixin.__gt__\u001b[1;34m(self, other)\u001b[0m\n\u001b[0;32m     54\u001b[0m \u001b[38;5;129m@unpack_zerodim_and_defer\u001b[39m(\u001b[38;5;124m\"\u001b[39m\u001b[38;5;124m__gt__\u001b[39m\u001b[38;5;124m\"\u001b[39m)\n\u001b[0;32m     55\u001b[0m \u001b[38;5;28;01mdef\u001b[39;00m \u001b[38;5;21m__gt__\u001b[39m(\u001b[38;5;28mself\u001b[39m, other):\n\u001b[1;32m---> 56\u001b[0m     \u001b[38;5;28;01mreturn\u001b[39;00m \u001b[38;5;28;43mself\u001b[39;49m\u001b[38;5;241;43m.\u001b[39;49m\u001b[43m_cmp_method\u001b[49m\u001b[43m(\u001b[49m\u001b[43mother\u001b[49m\u001b[43m,\u001b[49m\u001b[43m \u001b[49m\u001b[43moperator\u001b[49m\u001b[38;5;241;43m.\u001b[39;49m\u001b[43mgt\u001b[49m\u001b[43m)\u001b[49m\n",
      "File \u001b[1;32m~\\anaconda3\\lib\\site-packages\\pandas\\core\\arrays\\datetimelike.py:1010\u001b[0m, in \u001b[0;36mDatetimeLikeArrayMixin._cmp_method\u001b[1;34m(self, other, op)\u001b[0m\n\u001b[0;32m   1008\u001b[0m     other \u001b[38;5;241m=\u001b[39m \u001b[38;5;28mself\u001b[39m\u001b[38;5;241m.\u001b[39m_validate_comparison_value(other)\n\u001b[0;32m   1009\u001b[0m \u001b[38;5;28;01mexcept\u001b[39;00m InvalidComparison:\n\u001b[1;32m-> 1010\u001b[0m     \u001b[38;5;28;01mreturn\u001b[39;00m \u001b[43minvalid_comparison\u001b[49m\u001b[43m(\u001b[49m\u001b[38;5;28;43mself\u001b[39;49m\u001b[43m,\u001b[49m\u001b[43m \u001b[49m\u001b[43mother\u001b[49m\u001b[43m,\u001b[49m\u001b[43m \u001b[49m\u001b[43mop\u001b[49m\u001b[43m)\u001b[49m\n\u001b[0;32m   1012\u001b[0m dtype \u001b[38;5;241m=\u001b[39m \u001b[38;5;28mgetattr\u001b[39m(other, \u001b[38;5;124m\"\u001b[39m\u001b[38;5;124mdtype\u001b[39m\u001b[38;5;124m\"\u001b[39m, \u001b[38;5;28;01mNone\u001b[39;00m)\n\u001b[0;32m   1013\u001b[0m \u001b[38;5;28;01mif\u001b[39;00m is_object_dtype(dtype):\n\u001b[0;32m   1014\u001b[0m     \u001b[38;5;66;03m# We have to use comp_method_OBJECT_ARRAY instead of numpy\u001b[39;00m\n\u001b[0;32m   1015\u001b[0m     \u001b[38;5;66;03m#  comparison otherwise it would fail to raise when\u001b[39;00m\n\u001b[0;32m   1016\u001b[0m     \u001b[38;5;66;03m#  comparing tz-aware and tz-naive\u001b[39;00m\n",
      "File \u001b[1;32m~\\anaconda3\\lib\\site-packages\\pandas\\core\\ops\\invalid.py:34\u001b[0m, in \u001b[0;36minvalid_comparison\u001b[1;34m(left, right, op)\u001b[0m\n\u001b[0;32m     32\u001b[0m \u001b[38;5;28;01melse\u001b[39;00m:\n\u001b[0;32m     33\u001b[0m     typ \u001b[38;5;241m=\u001b[39m \u001b[38;5;28mtype\u001b[39m(right)\u001b[38;5;241m.\u001b[39m\u001b[38;5;18m__name__\u001b[39m\n\u001b[1;32m---> 34\u001b[0m     \u001b[38;5;28;01mraise\u001b[39;00m \u001b[38;5;167;01mTypeError\u001b[39;00m(\u001b[38;5;124mf\u001b[39m\u001b[38;5;124m\"\u001b[39m\u001b[38;5;124mInvalid comparison between dtype=\u001b[39m\u001b[38;5;132;01m{\u001b[39;00mleft\u001b[38;5;241m.\u001b[39mdtype\u001b[38;5;132;01m}\u001b[39;00m\u001b[38;5;124m and \u001b[39m\u001b[38;5;132;01m{\u001b[39;00mtyp\u001b[38;5;132;01m}\u001b[39;00m\u001b[38;5;124m\"\u001b[39m)\n\u001b[0;32m     35\u001b[0m \u001b[38;5;28;01mreturn\u001b[39;00m res_values\n",
      "\u001b[1;31mTypeError\u001b[0m: Invalid comparison between dtype=datetime64[ns] and date"
     ]
    }
   ],
   "source": [
    "# Convert the \"due_date\" and \"Closed_date\" columns to datetime\n",
    "df[\"due_date\"] = pd.to_datetime(df[\"due_date\"], format=\"%d-%m-%Y\", errors=\"coerce\")\n",
    "df[\"Closed_date\"] = pd.to_datetime(df[\"Closed_date\"], format=\"%d-%m-%Y\", errors=\"coerce\")\n",
    "\n",
    "# Get the current date\n",
    "current_date = pd.Timestamp.now().floor(\"D\").date()\n",
    "\n",
    "# Set of IDs marked as red\n",
    "red_ids = set()\n",
    "\n",
    "# Iterate through the data to find IDs marked as red\n",
    "for index, row in df.iterrows():\n",
    "    color_tag = str(row[\"color tag\"])\n",
    "    if \"red\" in color_tag.lower() or \"dark red\" in color_tag.lower():\n",
    "        red_ids.add(row[\"ID\"])\n",
    "\n",
    "# Filter the data based on the given conditions\n",
    "filtered_data = df[\n",
    "    (~df[\"ID\"].isin(red_ids)) &\n",
    "    (\n",
    "        (df[\"Status\"] != \"closed\") |\n",
    "        ((df[\"Status\"] == \"closed\") & (df[\"due_date\"].dt.date > df[\"Closed_date\"].dt.date.fillna(current_date)))\n",
    "    ) &\n",
    "    (df[\"due_date\"].dt.date > current_date)\n",
    "]\n",
    "\n",
    "# Get the unique IDs from the filtered data\n",
    "output_ids = filtered_data[\"ID\"].unique()\n",
    "\n",
    "# Print the output IDs\n",
    "print(output_ids)"
   ]
  },
  {
   "cell_type": "code",
   "execution_count": null,
   "id": "2267df18",
   "metadata": {},
   "outputs": [],
   "source": []
  }
 ],
 "metadata": {
  "kernelspec": {
   "display_name": "Python 3 (ipykernel)",
   "language": "python",
   "name": "python3"
  },
  "language_info": {
   "codemirror_mode": {
    "name": "ipython",
    "version": 3
   },
   "file_extension": ".py",
   "mimetype": "text/x-python",
   "name": "python",
   "nbconvert_exporter": "python",
   "pygments_lexer": "ipython3",
   "version": "3.9.12"
  }
 },
 "nbformat": 4,
 "nbformat_minor": 5
}
