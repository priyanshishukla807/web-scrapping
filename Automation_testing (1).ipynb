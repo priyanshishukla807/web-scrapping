{
 "cells": [
  {
   "cell_type": "code",
   "execution_count": 1,
   "id": "9e6c60fa",
   "metadata": {},
   "outputs": [],
   "source": [
    "import pandas as pd"
   ]
  },
  {
   "cell_type": "code",
   "execution_count": 5,
   "id": "a0a744ba",
   "metadata": {},
   "outputs": [],
   "source": [
    "import pandas as pd\n",
    "\n",
    "# Load the Excel file into a pandas DataFrame\n",
    "file_path = r'C:\\Users\\Priyanshi\\Downloads\\test_automation.xlsx'  # Replace with the actual file path\n",
    "df = pd.read_excel(file_path)\n",
    "\n",
    "# Convert the \"Closed date\" column to datetime\n",
    "df['Closed date'] = pd.to_datetime(df['Closed date'], format='%d-%m-%Y')\n",
    "\n",
    "# Find rows with \"Open - AIV\" status\n",
    "open_aiv_rows = df[df['status'] == 'Open - AIV']\n",
    "\n",
    "# Group by ID and find the minimum \"Closed date\" for each ID\n",
    "min_open_aiv_dates = open_aiv_rows.groupby('ID1')['Closed date'].min()\n",
    "\n",
    "# Update the \"Closed date\" based on minimum \"Open - AIV\" date for each ID\n",
    "df['Closed date'] = df.apply(lambda row: min_open_aiv_dates[row['ID1']]\n",
    "                              if row['ID1'] in min_open_aiv_dates else row['Closed date'], axis=1)\n",
    "\n",
    "# Save the updated DataFrame back to the Excel file\n",
    "df.to_excel('updated_data.xlsx', index=False)  # Replace with the desired output file path\n"
   ]
  },
  {
   "cell_type": "code",
   "execution_count": null,
   "id": "63777bf7",
   "metadata": {},
   "outputs": [],
   "source": [
    "import pandas as pd\n",
    "\n",
    "# Load the Excel file into a pandas DataFrame\n",
    "file_path = 'path_to_your_excel_file.xlsx'  # Replace with the actual file path\n",
    "df = pd.read_excel(file_path)\n",
    "\n",
    "# Convert the \"Closed date\" column to datetime\n",
    "df['Closed date'] = pd.to_datetime(df['Closed date'], format='%d-%m-%Y')\n",
    "\n",
    "# Filter rows with \"Open - AIV\" status that start with the specified text\n",
    "open_aiv_rows = df[df['status'].str.startswith('Open - AIV', na=False)]\n",
    "\n",
    "# Group by ID and find the minimum \"Closed date\" for each ID\n",
    "min_open_aiv_dates = open_aiv_rows.groupby('ID')['Closed date'].min()\n",
    "\n",
    "# Update the \"Closed date\" based on minimum \"Open - AIV\" date for each ID\n",
    "def update_closed_date(row):\n",
    "    if row['ID'] in min_open_aiv_dates:\n",
    "        return min_open_aiv_dates[row['ID']]\n",
    "    return row['Closed date']\n",
    "\n",
    "df['Closed date'] = df.apply(update_closed_date, axis=1)\n",
    "\n",
    "# Save the updated DataFrame back to the Excel file\n",
    "df.to_excel('updated_data.xlsx', index=False)  # Replace with the desired output file path\n"
   ]
  }
 ],
 "metadata": {
  "kernelspec": {
   "display_name": "Python 3 (ipykernel)",
   "language": "python",
   "name": "python3"
  },
  "language_info": {
   "codemirror_mode": {
    "name": "ipython",
    "version": 3
   },
   "file_extension": ".py",
   "mimetype": "text/x-python",
   "name": "python",
   "nbconvert_exporter": "python",
   "pygments_lexer": "ipython3",
   "version": "3.9.12"
  }
 },
 "nbformat": 4,
 "nbformat_minor": 5
}
