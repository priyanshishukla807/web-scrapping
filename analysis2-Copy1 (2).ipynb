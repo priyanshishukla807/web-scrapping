{
 "cells": [
  {
   "cell_type": "code",
   "execution_count": null,
   "id": "61cbd0a7",
   "metadata": {},
   "outputs": [],
   "source": [
    "\n",
    "# Get the current date\n",
    "current_date = datetime.now().date()\n",
    "\n",
    "# Dictionary to store the latest due date for each ID\n",
    "latest_due_dates = {}\n",
    "\n",
    "# Iterate through the data to find the latest due date for each ID\n",
    "for entry in data:\n",
    "    id = entry[\"ID\"]\n",
    "    due_date = datetime.strptime(entry[\"due_date\"], \"%d-%m-%Y\").date()\n",
    "    if id not in latest_due_dates or due_date > latest_due_dates[id]:\n",
    "        latest_due_dates[id] = due_date\n",
    "\n",
    "# Set to store IDs that meet the criteria\n",
    "result_ids = set()\n",
    "\n",
    "# Iterate through the data to check if the ID is overdue\n",
    "for entry in data:\n",
    "    id = entry[\"ID\"]\n",
    "    status = entry[\"Status\"]\n",
    "    color_tag = entry.get(\"color tag\", \"\")\n",
    "    due_date = datetime.strptime(entry[\"due_date\"], \"%d-%m-%Y\").date()\n",
    "    closed_date = datetime.strptime(entry.get(\"Closed_date\", str(current_date)), \"%d-%m-%Y\").date()\n",
    "\n",
    "    if (\n",
    "        status != \"closed\" and\n",
    "        color_tag != \"red\" and\n",
    "        due_date > closed_date and\n",
    "        due_date > latest_due_dates[id]\n",
    "    ):\n",
    "        result_ids.add(id)\n",
    "\n",
    "print(result_ids)"
   ]
  }
 ],
 "metadata": {
  "kernelspec": {
   "display_name": "Python 3 (ipykernel)",
   "language": "python",
   "name": "python3"
  },
  "language_info": {
   "codemirror_mode": {
    "name": "ipython",
    "version": 3
   },
   "file_extension": ".py",
   "mimetype": "text/x-python",
   "name": "python",
   "nbconvert_exporter": "python",
   "pygments_lexer": "ipython3",
   "version": "3.9.12"
  }
 },
 "nbformat": 4,
 "nbformat_minor": 5
}
