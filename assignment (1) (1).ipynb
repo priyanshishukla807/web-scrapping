{
 "cells": [
  {
   "cell_type": "code",
   "execution_count": 1,
   "id": "91182e6f",
   "metadata": {},
   "outputs": [],
   "source": [
    "import pandas as pd\n",
    "from datetime import datetime\n",
    "import numpy as np"
   ]
  },
  {
   "cell_type": "code",
   "execution_count": 2,
   "id": "a8607244",
   "metadata": {},
   "outputs": [],
   "source": [
    "df = pd.read_excel(r\"C:\\Users\\Priyanshi\\Downloads\\dummy data.xlsx\")\n",
    "df['due_date'] = pd.to_datetime(df['due_date'])\n",
    "df['Closed_date'] = pd.to_datetime(df['Closed_date'])"
   ]
  },
  {
   "cell_type": "code",
   "execution_count": 3,
   "id": "f5c55fd7",
   "metadata": {},
   "outputs": [
    {
     "name": "stdout",
     "output_type": "stream",
     "text": [
      "       ID      Status color tag   due_date Closed_date status update date\n",
      "0       1        draf       NaN 2020-05-20         NaT                NaT\n",
      "1       1        open     green 2020-05-20         NaT                NaT\n",
      "2       1    open-abc     green 2020-05-20         NaT         2020-03-15\n",
      "3       1     open-df     green 2020-05-20         NaT         2020-03-20\n",
      "4       1      closed     green 2020-05-20  2020-05-16         2020-05-16\n",
      "5   abc-2        open       NaN 2022-05-24         NaT         2022-01-22\n",
      "6   abc-2        open     green 2022-05-24         NaT         2023-03-30\n",
      "7   abc-2    open-abc     amber 2022-05-24         NaT         2023-04-05\n",
      "8   abc-2     open-df     green 2022-05-24         NaT         2023-04-25\n",
      "9   abc-2      open-p     green 2022-05-24         NaT                NaT\n",
      "10      3        open     green 2021-04-13         NaT                NaT\n",
      "11      3        open       red 2021-04-13         NaT                NaT\n",
      "12      3    open-abc  dark red 2021-04-13         NaT                NaT\n",
      "13      3     open-df     green 2024-05-24         NaT                NaT\n",
      "14      3      open-p     green 2024-05-24         NaT                NaT\n",
      "15  abc-4        draf     green 2023-04-13         NaT                NaT\n",
      "16  abc-4        open     green 2023-04-13         NaT                NaT\n",
      "17  abc-4    open-abc       red 2023-04-13         NaT                NaT\n",
      "18  abc-4     open-df       NaN 2023-04-13         NaT                NaT\n",
      "19  abc-4      open-p       NaN 2023-04-13         NaT                NaT\n",
      "20  abc-4      closed     green 2023-04-13  2023-04-11                NaT\n",
      "21      5        draf     green 2022-11-04         NaT                NaT\n",
      "22      5        open     green 2022-11-04         NaT                NaT\n",
      "23      5    open-abc     amber 2022-11-04         NaT                NaT\n",
      "24      5     open-df     green 2022-11-04         NaT                NaT\n",
      "25      5      open-p     green 2023-01-05         NaT                NaT\n",
      "26      5  closed-abc     green 2023-01-05  2023-02-11                NaT\n",
      "27      5  closed-dcf     green 2023-01-05  2023-02-11                NaT\n",
      "28      6        open     green 2021-04-13         NaT                NaT\n",
      "29      6        open     amber 2021-04-13         NaT                NaT\n",
      "30      6    open-abc       NaN 2021-04-13         NaT                NaT\n",
      "31      6     open-df     green 2022-02-11         NaT                NaT\n",
      "32      6      closed     green 2022-02-11  2023-05-20                NaT\n"
     ]
    }
   ],
   "source": [
    "print(df)"
   ]
  },
  {
   "cell_type": "code",
   "execution_count": 4,
   "id": "5bced1ce",
   "metadata": {},
   "outputs": [],
   "source": [
    "current_date = datetime.now().date()\n",
    "current_date = np.datetime64(current_date)"
   ]
  },
  {
   "cell_type": "code",
   "execution_count": 5,
   "id": "da81e523",
   "metadata": {},
   "outputs": [
    {
     "name": "stdout",
     "output_type": "stream",
     "text": [
      "       ID    Status color tag   due_date Closed_date status update date\n",
      "11      3      open       red 2021-04-13         NaT                NaT\n",
      "12      3  open-abc  dark red 2021-04-13         NaT                NaT\n",
      "13      3   open-df     green 2024-05-24         NaT                NaT\n",
      "14      3    open-p     green 2024-05-24         NaT                NaT\n",
      "17  abc-4  open-abc       red 2023-04-13         NaT                NaT\n",
      "4       1    closed     green 2020-05-20  2020-05-16         2020-05-16\n",
      "20  abc-4    closed     green 2023-04-13  2023-04-11                NaT\n"
     ]
    },
    {
     "name": "stderr",
     "output_type": "stream",
     "text": [
      "C:\\Users\\Priyanshi\\AppData\\Local\\Temp\\ipykernel_25368\\3298947666.py:2: FutureWarning: The frame.append method is deprecated and will be removed from pandas in a future version. Use pandas.concat instead.\n",
      "  listB = listB.append(df[(df['Closed_date'].notnull()) & (df['Closed_date'] < df['due_date']) & (~df['color tag'].isin(['red', 'dark red']))])\n",
      "C:\\Users\\Priyanshi\\AppData\\Local\\Temp\\ipykernel_25368\\3298947666.py:6: FutureWarning: The frame.append method is deprecated and will be removed from pandas in a future version. Use pandas.concat instead.\n",
      "  filtered_complaints = filtered_complaints.append(df[(df['Closed_date'].notnull()) & (df['Closed_date'] > df['due_date']) & (~df['color tag'].isin(['red', 'dark red']))])\n"
     ]
    }
   ],
   "source": [
    "listB = df[((df['color tag'].isin(['red', 'dark red'])) | (df['due_date'] > current_date)) & (df['Status'] != 'closed')]\n",
    "listB = listB.append(df[(df['Closed_date'].notnull()) & (df['Closed_date'] < df['due_date']) & (~df['color tag'].isin(['red', 'dark red']))])\n",
    "print(listB)\n",
    "listA = list(listB['ID'])\n",
    "filtered_complaints = df[(~df['color tag'].isin(['red', 'dark red'])) & (df['due_date'] < current_date) & (df['Status'] != 'closed')]\n",
    "filtered_complaints = filtered_complaints.append(df[(df['Closed_date'].notnull()) & (df['Closed_date'] > df['due_date']) & (~df['color tag'].isin(['red', 'dark red']))])"
   ]
  },
  {
   "cell_type": "code",
   "execution_count": 6,
   "id": "94e25a93",
   "metadata": {},
   "outputs": [
    {
     "name": "stdout",
     "output_type": "stream",
     "text": [
      "       ID      Status color tag   due_date Closed_date status update date\n",
      "5   abc-2        open       NaN 2022-05-24         NaT         2022-01-22\n",
      "6   abc-2        open     green 2022-05-24         NaT         2023-03-30\n",
      "7   abc-2    open-abc     amber 2022-05-24         NaT         2023-04-05\n",
      "8   abc-2     open-df     green 2022-05-24         NaT         2023-04-25\n",
      "9   abc-2      open-p     green 2022-05-24         NaT                NaT\n",
      "21      5        draf     green 2022-11-04         NaT                NaT\n",
      "22      5        open     green 2022-11-04         NaT                NaT\n",
      "23      5    open-abc     amber 2022-11-04         NaT                NaT\n",
      "24      5     open-df     green 2022-11-04         NaT                NaT\n",
      "25      5      open-p     green 2023-01-05         NaT                NaT\n",
      "26      5  closed-abc     green 2023-01-05  2023-02-11                NaT\n",
      "27      5  closed-dcf     green 2023-01-05  2023-02-11                NaT\n",
      "28      6        open     green 2021-04-13         NaT                NaT\n",
      "29      6        open     amber 2021-04-13         NaT                NaT\n",
      "30      6    open-abc       NaN 2021-04-13         NaT                NaT\n",
      "31      6     open-df     green 2022-02-11         NaT                NaT\n",
      "26      5  closed-abc     green 2023-01-05  2023-02-11                NaT\n",
      "27      5  closed-dcf     green 2023-01-05  2023-02-11                NaT\n",
      "32      6      closed     green 2022-02-11  2023-05-20                NaT\n"
     ]
    }
   ],
   "source": [
    "df_filtered = filtered_complaints[~filtered_complaints['ID'].isin(listA)]\n",
    "print(df_filtered)"
   ]
  },
  {
   "cell_type": "code",
   "execution_count": null,
   "id": "ad57c9fa",
   "metadata": {},
   "outputs": [],
   "source": []
  }
 ],
 "metadata": {
  "kernelspec": {
   "display_name": "Python 3 (ipykernel)",
   "language": "python",
   "name": "python3"
  },
  "language_info": {
   "codemirror_mode": {
    "name": "ipython",
    "version": 3
   },
   "file_extension": ".py",
   "mimetype": "text/x-python",
   "name": "python",
   "nbconvert_exporter": "python",
   "pygments_lexer": "ipython3",
   "version": "3.9.12"
  }
 },
 "nbformat": 4,
 "nbformat_minor": 5
}
