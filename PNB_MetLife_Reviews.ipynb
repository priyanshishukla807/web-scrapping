{
  "nbformat": 4,
  "nbformat_minor": 0,
  "metadata": {
    "colab": {
      "name": "PNB_MetLife_Reviews.ipynb",
      "provenance": []
    },
    "kernelspec": {
      "name": "python3",
      "display_name": "Python 3"
    },
    "language_info": {
      "name": "python"
    }
  },
  "cells": [
    {
      "cell_type": "code",
      "metadata": {
        "id": "nsNxtYWSdvCm"
      },
      "source": [
        "import requests\n",
        "from bs4 import BeautifulSoup"
      ],
      "execution_count": 1,
      "outputs": []
    },
    {
      "cell_type": "code",
      "metadata": {
        "id": "Hu_aYv-REu0h"
      },
      "source": [
        "search_query=\"PNB-MetLife-Life-Insurance-reviews-925696077\"\n",
        "base_url=\"https://www.mouthshut.com/product-reviews/\""
      ],
      "execution_count": 19,
      "outputs": []
    },
    {
      "cell_type": "code",
      "metadata": {
        "id": "NrsUH-sc0xFL"
      },
      "source": [
        "url= base_url+search_query\n",
        "print(url)"
      ],
      "execution_count": null,
      "outputs": []
    },
    {
      "cell_type": "code",
      "metadata": {
        "id": "tC5MDqUM0zPQ"
      },
      "source": [
        "search_response=requests.get(url)## pass the url to mouthshut an requesting the response\n",
        "print(search_response)"
      ],
      "execution_count": null,
      "outputs": []
    },
    {
      "cell_type": "code",
      "metadata": {
        "id": "b8T8hftJ009N"
      },
      "source": [
        "print(search_response.status_code)"
      ],
      "execution_count": null,
      "outputs": []
    },
    {
      "cell_type": "code",
      "metadata": {
        "id": "l874P7sS02zT"
      },
      "source": [
        "print(search_response.content)"
      ],
      "execution_count": null,
      "outputs": []
    },
    {
      "cell_type": "code",
      "metadata": {
        "id": "IZKj3ldP047W"
      },
      "source": [
        "reviews=BeautifulSoup(search_response.content)\n",
        "print(reviews)"
      ],
      "execution_count": null,
      "outputs": []
    },
    {
      "cell_type": "code",
      "metadata": {
        "id": "gCrvqGhe07PI"
      },
      "source": [
        "reviews.title"
      ],
      "execution_count": null,
      "outputs": []
    },
    {
      "cell_type": "code",
      "metadata": {
        "id": "BliRC26H09v6"
      },
      "source": [
        "review=reviews.find(\"div\",{\"class\": \"left-panel\"})"
      ],
      "execution_count": null,
      "outputs": []
    },
    {
      "cell_type": "code",
      "metadata": {
        "id": "jrIKUopF0_pW"
      },
      "source": [
        "data=review.find(\"div\", {\"class\":\"read-review-holder\"})\n",
        "print(data)"
      ],
      "execution_count": null,
      "outputs": []
    },
    {
      "cell_type": "code",
      "metadata": {
        "id": "tkezDZCV1BPJ"
      },
      "source": [
        "new=[]\n",
        "def test(review):\n",
        "    for x in review:\n",
        "        new.append(x.text)\n",
        "    return new  "
      ],
      "execution_count": null,
      "outputs": []
    },
    {
      "cell_type": "code",
      "metadata": {
        "id": "KmcS7TLs1GCr"
      },
      "source": [
        "reviews_1=data.findAll('div', {\"class\":\"more reviewdata\"})\n",
        "print(reviews_1)\n",
        "print(len(reviews_1))"
      ],
      "execution_count": null,
      "outputs": []
    },
    {
      "cell_type": "code",
      "metadata": {
        "id": "VtYnsbo61JGb"
      },
      "source": [
        "def extractReview(Review):\n",
        "    r=[]\n",
        "    for  i in Review:\n",
        "        r.append(i.text)\n",
        "    return r"
      ],
      "execution_count": null,
      "outputs": []
    },
    {
      "cell_type": "code",
      "metadata": {
        "id": "h_gfm3oj1MnX"
      },
      "source": [
        "review_1= extractReview(reviews_1)\n",
        "print(review_1)"
      ],
      "execution_count": null,
      "outputs": []
    },
    {
      "cell_type": "code",
      "metadata": {
        "id": "WQFAuiY_1Osr"
      },
      "source": [
        "readmore=data.find(\"a\",{\"onclick\":\"bindreviewcontent('3041453',this,false,'I found this review of PNB-MetLife-Life-Insurance pretty useful',925868223,'.png','I found this review of PNB-MetLife-Life-Insurance pretty useful %23WriteShareWin','https://www.mouthshut.com/product-reviews/PNB-MetLife-Life-Insurance-reviews-925696077','PNB-MetLife-Life-Insurance',' 1/5','mqlroqpmplo');\"})"
      ],
      "execution_count": null,
      "outputs": []
    },
    {
      "cell_type": "code",
      "metadata": {
        "id": "u5Zbkjf41TH-"
      },
      "source": [
        "# Data manipulation\n",
        "import pandas as pd\n",
        "import numpy as np\n",
        "\n",
        "# Options for pandas\n",
        "pd.options.display.max_columns = None\n",
        "pd.options.display.max_rows = None\n",
        "\n",
        "pd.options.display.max_colwidth=-1\n",
        "\n",
        "# Display all cell outputs\n",
        "from IPython.core.interactiveshell import InteractiveShell\n",
        "InteractiveShell.ast_node_interactivity = 'all'\n",
        "\n",
        "from IPython import get_ipython\n",
        "ipython = get_ipython()\n",
        "import re"
      ],
      "execution_count": null,
      "outputs": []
    },
    {
      "cell_type": "code",
      "metadata": {
        "id": "24amhE4s1i5T"
      },
      "source": [
        "total_reviews=reviews.find(\"span\",{\"id\":\"ctl00_ctl00_ContentPlaceHolderFooter_ContentPlaceHolderBody_lblnoofrecords\"})"
      ],
      "execution_count": null,
      "outputs": []
    },
    {
      "cell_type": "code",
      "metadata": {
        "id": "xR_DJgIy1nZ8"
      },
      "source": [
        "total_review=total_reviews.text\n",
        "total_review"
      ],
      "execution_count": null,
      "outputs": []
    },
    {
      "cell_type": "code",
      "metadata": {
        "id": "zLuZrdqI1pzd"
      },
      "source": [
        "total_review=total_review.replace(\"Showing: 1 - 20 of \",\"\")\n",
        "print(total_review)\n",
        "total_review=re.sub(\" Reviews.*\",\"\",total_review)\n",
        "print(total_review)"
      ],
      "execution_count": null,
      "outputs": []
    },
    {
      "cell_type": "code",
      "metadata": {
        "id": "56gT0a8N1sGK"
      },
      "source": [
        "total_review=int(total_review)"
      ],
      "execution_count": null,
      "outputs": []
    },
    {
      "cell_type": "code",
      "metadata": {
        "id": "P1lN6EyW1u0l"
      },
      "source": [
        "total_pages=total_review//20\n",
        "\n",
        "if total_pages%20!=0:\n",
        "    total_pages=total_pages+1\n",
        "print(total_pages)"
      ],
      "execution_count": null,
      "outputs": []
    },
    {
      "cell_type": "code",
      "metadata": {
        "id": "RaBCsL6P1xE6"
      },
      "source": [
        "reviews_url=[]\n",
        "for more_div in reviews_1:\n",
        "    review_url=more_div.find(\"a\")['onclick']\n",
        "    reviews_url.append(review_url)\n",
        "\n",
        "reviews_url"
      ],
      "execution_count": null,
      "outputs": []
    },
    {
      "cell_type": "code",
      "metadata": {
        "id": "fRyRY8sy1z3B"
      },
      "source": [
        "urls=[]\n",
        "\n",
        "for review_url in reviews_url:\n",
        "    review_url=review_url.replace('bindreviewcontent',\"\")\n",
        "    review_url=review_url.replace(\";\",\"\")\n",
        "    review_url=review_url.replace('\"',\"\")\n",
        "    review_url=review_url.strip(\"()\")\n",
        "    ## Convert the review url string to tuple or split on comma \n",
        "    review_url_split=review_url.split(\",\")\n",
        "    #print(review_url_split)\n",
        "    #If a value after splitting starts with \"https:\" it is tghe url of the review\n",
        "    url=[value for value in review_url_split if \"www.mouthshut.com/review\" in value][0]\n",
        "    urls.append(url)"
      ],
      "execution_count": null,
      "outputs": []
    },
    {
      "cell_type": "code",
      "metadata": {
        "id": "kUs2tk7F12pb"
      },
      "source": [
        "for review_url in reviews_url:\n",
        "    review_url=review_url.replace('bindreviewcontent',\"\")\n",
        "    review_url=review_url.replace(\";\",\"\")\n",
        "    review_url=review_url.replace('\"',\"\")\n",
        "    review_url=review_url.strip(\"()\")\n",
        "    ## Convert the review url string to tuple or split on comma \n",
        "    review_url_split=review_url.split(\",\")\n",
        "    "
      ],
      "execution_count": null,
      "outputs": []
    },
    {
      "cell_type": "code",
      "metadata": {
        "id": "KYQXu22r1421"
      },
      "source": [
        "review_url1=urls[0]\n",
        "review_url1"
      ],
      "execution_count": null,
      "outputs": []
    },
    {
      "cell_type": "code",
      "metadata": {
        "id": "YxLSgiAt173E"
      },
      "source": [
        "def cleancontent(urls):\n",
        "    print(urls)\n",
        "    search_response1=requests.get(urls)\n",
        "    print(search_response1)\n",
        "    search_response1.status_code\n",
        "    #search_response1.content\n",
        "    reviews=BeautifulSoup(search_response.content)\n",
        "    reviews.prettify\n",
        "    return reviews"
      ],
      "execution_count": null,
      "outputs": []
    },
    {
      "cell_type": "code",
      "metadata": {
        "id": "SnrCWnIW198l"
      },
      "source": [
        "review_url1=cleancontent(urls[0])"
      ],
      "execution_count": null,
      "outputs": []
    },
    {
      "cell_type": "code",
      "metadata": {
        "id": "eTiNnPPM2CEa"
      },
      "source": [
        "exactreview=review_url1.find(\"div\",{\"class\": \"left-panel\"})"
      ],
      "execution_count": null,
      "outputs": []
    },
    {
      "cell_type": "code",
      "metadata": {
        "id": "33dmBG0q2DWx"
      },
      "source": [
        "exact=exactreview.find(\"div\", {\"class\":\"read-review-holder\"})\n",
        "print(exact)"
      ],
      "execution_count": null,
      "outputs": []
    },
    {
      "cell_type": "code",
      "metadata": {
        "id": "g3MCY-L72GI2"
      },
      "source": [
        "exactrow=exact.find('div',{\"class\":\"row review-article\"})\n",
        "print(exactrow)"
      ],
      "execution_count": null,
      "outputs": []
    },
    {
      "cell_type": "code",
      "metadata": {
        "id": "imzf_B572Isf"
      },
      "source": [
        "reviews_exact=exactrow.find('div', {\"class\":\"rev-main-content\"})\n",
        "print(reviews_exact)"
      ],
      "execution_count": null,
      "outputs": []
    },
    {
      "cell_type": "code",
      "metadata": {
        "id": "qLPv3KgU2LOD"
      },
      "source": [
        "urls=[]\n",
        "for i in range(1,19):\n",
        "    url=\"https://www.mouthshut.com/product-reviews/\"\n",
        "    query=\"PNB-MetLife-Life-Insurance-reviews-925696077\"\"-page-\"+str(i)\n",
        "    print (url+query)\n",
        "    urls.append(url+query)"
      ],
      "execution_count": null,
      "outputs": []
    },
    {
      "cell_type": "code",
      "metadata": {
        "id": "4ol21TZf2NO9"
      },
      "source": [
        "def getreviewUrl(urls):\n",
        "    reviews=cleancontent(urls)   \n",
        "    review=reviews.find(\"div\",{\"class\": \"left-panel\"})\n",
        "    data=review.find(\"div\", {\"class\":\"read-review-holder\"})\n",
        "    reviews_1=data.findAll('div', {\"class\":\"more reviewdata\"})\n",
        "    reviews= extractReview(reviews_1)\n",
        "    \n",
        "    rating=review.findAll('div',{\"class\":\"rating\"})\n",
        "    ratings=[]\n",
        "    for x in rating:\n",
        "        rating=x.findAll(\"i\",{\"class\":\"icon-rating rated-star\"})\n",
        "        ratings.append(len(rating))\n",
        "    #print(len(review))\n",
        "    #print(review)\n",
        "        \n",
        "    pnb=pd.DataFrame()\n",
        "    pnb['ratings']=ratings\n",
        "    pnb['reviews']=reviews\n",
        "    return pnb"
      ],
      "execution_count": null,
      "outputs": []
    },
    {
      "cell_type": "code",
      "metadata": {
        "id": "AQT-8tCD2QZD"
      },
      "source": [
        "pnb=getreviewUrl(urls[0])"
      ],
      "execution_count": null,
      "outputs": []
    },
    {
      "cell_type": "code",
      "metadata": {
        "id": "WaoZDDvM2SeM"
      },
      "source": [
        "rating=review.findAll('div',{\"class\":\"rating\"})\n",
        "ratings=[]\n",
        "for x in rating:\n",
        "    rating=x.findAll(\"i\",{\"class\":\"icon-rating rated-star\"})\n",
        "    ratings.append(len(rating))"
      ],
      "execution_count": null,
      "outputs": []
    },
    {
      "cell_type": "code",
      "metadata": {
        "id": "JwxUw5Bp2Uuf"
      },
      "source": [
        "print(len(ratings))"
      ],
      "execution_count": null,
      "outputs": []
    },
    {
      "cell_type": "code",
      "metadata": {
        "id": "1bkp7Mi02W5j"
      },
      "source": [
        "pnb"
      ],
      "execution_count": null,
      "outputs": []
    },
    {
      "cell_type": "code",
      "metadata": {
        "id": "ltv66g0T2Y0Q"
      },
      "source": [
        "pnb1=getreviewUrl(urls[1])\n",
        "pnb2=getreviewUrl(urls[2])\n",
        "pnb3=getreviewUrl(urls[3])\n",
        "pnb4=getreviewUrl(urls[4])\n",
        "pnb5=getreviewUrl(urls[5])\n",
        "pnb6=getreviewUrl(urls[6])\n",
        "pnb7=getreviewUrl(urls[7])\n",
        "pnb8=getreviewUrl(urls[8])\n",
        "pnb9=getreviewUrl(urls[9])\n",
        "pnb10=getreviewUrl(urls[10])\n",
        "pnb11=getreviewUrl(urls[11])\n",
        "pnb12=getreviewUrl(urls[12])\n",
        "pnb13=getreviewUrl(urls[13])\n",
        "pnb14=getreviewUrl(urls[14])\n",
        "pnb15=getreviewUrl(urls[15])\n",
        "pnb16=getreviewUrl(urls[16])\n",
        "pnb17=getreviewUrl(urls[17])"
      ],
      "execution_count": null,
      "outputs": []
    },
    {
      "cell_type": "code",
      "metadata": {
        "id": "qB-5c9rB2kHD"
      },
      "source": [
        "pnb0=getreviewUrl(url)"
      ],
      "execution_count": null,
      "outputs": []
    },
    {
      "cell_type": "code",
      "metadata": {
        "id": "TcIyR-TT2mRK"
      },
      "source": [
        "pnb_reviews=pd.concat([pnb0, pnb, pnb1, pnb2, pnb3, pnb4, pnb5, pnb6, pnb7, pnb8, pnb9, pnb10, pnb11, pnb12, pnb13, pnb14, pnb15, pnb16, pnb17 ])"
      ],
      "execution_count": null,
      "outputs": []
    },
    {
      "cell_type": "code",
      "metadata": {
        "id": "DnOjJ-ls2pe7"
      },
      "source": [
        "pnb_reviews.shape"
      ],
      "execution_count": null,
      "outputs": []
    },
    {
      "cell_type": "code",
      "metadata": {
        "id": "HTRD0PYK2tEr"
      },
      "source": [
        "pnb_reviews.to_csv(\"pnb.csv\")"
      ],
      "execution_count": null,
      "outputs": []
    }
  ]
}