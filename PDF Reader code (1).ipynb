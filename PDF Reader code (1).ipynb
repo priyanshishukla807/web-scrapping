{
 "cells": [
  {
   "cell_type": "code",
   "execution_count": 1,
   "id": "776d411a",
   "metadata": {},
   "outputs": [
    {
     "name": "stdout",
     "output_type": "stream",
     "text": [
      "Collecting PyPDF2\n",
      "  Downloading pypdf2-3.0.1-py3-none-any.whl (232 kB)\n",
      "Requirement already satisfied: typing_extensions>=3.10.0.0 in c:\\users\\priyanshi\\anaconda3\\lib\\site-packages (from PyPDF2) (4.1.1)\n",
      "Installing collected packages: PyPDF2\n",
      "Successfully installed PyPDF2-3.0.1\n",
      "Note: you may need to restart the kernel to use updated packages.\n"
     ]
    }
   ],
   "source": [
    "pip install PyPDF2"
   ]
  },
  {
   "cell_type": "code",
   "execution_count": null,
   "id": "fa6a4e4e",
   "metadata": {},
   "outputs": [],
   "source": [
    "import PyPDF2\n",
    "\n",
    "def extract_text_from_pdf(pdf_path):\n",
    "    text = \"\"\n",
    "    with open(pdf_path, \"rb\") as file:\n",
    "        pdf_reader = PyPDF2.PdfFileReader(file)\n",
    "        num_pages = pdf_reader.numPages\n",
    "\n",
    "        for page_num in range(num_pages):\n",
    "            page = pdf_reader.getPage(page_num)\n",
    "            text += page.extractText()\n",
    "\n",
    "    return text\n",
    "\n",
    "if __name__ == \"__main__\":\n",
    "    pdf_path = \"sample.pdf\"\n",
    "    extracted_text = extract_text_from_pdf(pdf_path)\n",
    "    print(extracted_text)\n"
   ]
  },
  {
   "cell_type": "code",
   "execution_count": 1,
   "id": "f0ba78f4",
   "metadata": {},
   "outputs": [
    {
     "name": "stdout",
     "output_type": "stream",
     "text": [
      "Collecting PyMuPDF\n",
      "  Downloading PyMuPDF-1.22.5-cp39-cp39-win_amd64.whl (11.8 MB)\n",
      "Installing collected packages: PyMuPDF\n",
      "Successfully installed PyMuPDF-1.22.5\n",
      "Note: you may need to restart the kernel to use updated packages.\n"
     ]
    }
   ],
   "source": [
    "pip install PyMuPDF"
   ]
  },
  {
   "cell_type": "code",
   "execution_count": null,
   "id": "ba502e5b",
   "metadata": {},
   "outputs": [],
   "source": [
    "import fitz\n",
    "\n",
    "def extract_text_from_pdf(pdf_path):\n",
    "    text = \"\"\n",
    "    with fitz.open(pdf_path) as pdf_document:\n",
    "        num_pages = pdf_document.page_count\n",
    "        for page_num in range(num_pages):\n",
    "            page = pdf_document[page_num]\n",
    "            text += page.get_text()\n",
    "\n",
    "    return text\n",
    "\n",
    "if __name__ == \"__main__\":\n",
    "    pdf_path = \"sample.pdf\"\n",
    "    extracted_text = extract_text_from_pdf(pdf_path)\n",
    "    print(extracted_text)"
   ]
  },
  {
   "cell_type": "code",
   "execution_count": null,
   "id": "f5af6f69",
   "metadata": {},
   "outputs": [],
   "source": [
    "import PyPDF2\n",
    "\n",
    "def extract_text_from_pdf(pdf_path):\n",
    "    text = \"\"\n",
    "    with open(pdf_path, \"rb\") as file:\n",
    "        pdf_reader = PyPDF2.PdfFileReader(file)\n",
    "        num_pages = pdf_reader.numPages\n",
    "\n",
    "        for page_num in range(num_pages):\n",
    "            page = pdf_reader.getPage(page_num)\n",
    "            text += page.extractText()\n",
    "\n",
    "            # Process text from the current page (optional)\n",
    "            # process_text(text)\n",
    "\n",
    "            # Reset text to save memory (optional)\n",
    "            text = \"\"\n",
    "\n",
    "    return text\n",
    "\n",
    "if __name__ == \"__main__\":\n",
    "    pdf_path = \"large_sample.pdf\"\n",
    "    extracted_text = extract_text_from_pdf(pdf_path)\n",
    "    print(extracted_text)\n"
   ]
  },
  {
   "cell_type": "code",
   "execution_count": null,
   "id": "48cf7af2",
   "metadata": {},
   "outputs": [],
   "source": [
    "import pdfplumber\n",
    "\n",
    "def extract_text_from_pdf(pdf_path):\n",
    "    text = \"\"\n",
    "    with pdfplumber.open(pdf_path) as pdf_document:\n",
    "        num_pages = len(pdf_document.pages)\n",
    "        for page_num in range(num_pages):\n",
    "            page = pdf_document.pages[page_num]\n",
    "            text += page.extract_text()\n",
    "\n",
    "    return text\n",
    "\n",
    "if __name__ == \"__main__\":\n",
    "    pdf_path = \"large_sample.pdf\"\n",
    "    extracted_text = extract_text_from_pdf(pdf_path)\n",
    "    print(extracted_text)\n"
   ]
  },
  {
   "cell_type": "code",
   "execution_count": null,
   "id": "4c22adb3",
   "metadata": {},
   "outputs": [],
   "source": [
    "import re\n",
    "\n",
    "def parse_technical_experience(text):\n",
    "    pattern = r\"TECHNICAL EXPERIENCE\\n• (.*?)\\n(.*?)\\n(.*?)\\n\"\n",
    "    matches = re.findall(pattern, text, re.DOTALL)\n",
    "    experience_list = []\n",
    "\n",
    "    for match in matches:\n",
    "        experience = {\n",
    "            \"key\": match[0],\n",
    "            \"start_date\": match[1].strip(),\n",
    "            \"description\": match[2].strip(),\n",
    "        }\n",
    "        experience_list.append(experience)\n",
    "\n",
    "    return experience_list\n",
    "\n",
    "if __name__ == \"__main__\":\n",
    "    pdf_path = \"your_large_pdf.pdf\"\n",
    "    with open(pdf_path, \"r\") as file:\n",
    "        pdf_text = file.read()\n",
    "\n",
    "    technical_experience_list = parse_technical_experience(pdf_text)\n",
    "    print(technical_experience_list)\n"
   ]
  },
  {
   "cell_type": "code",
   "execution_count": null,
   "id": "302d6a0c",
   "metadata": {},
   "outputs": [],
   "source": [
    "import spacy\n",
    "\n",
    "def extract_technical_experience(text):\n",
    "    nlp = spacy.load(\"en_core_web_sm\")\n",
    "    doc = nlp(text)\n",
    "\n",
    "    experience_list = []\n",
    "    current_experience = {}\n",
    "\n",
    "    for token in doc:\n",
    "        if token.text.lower() == \"technical\" and token.nbor().text.lower() == \"experience\":\n",
    "            if current_experience:\n",
    "                experience_list.append(current_experience)\n",
    "                current_experience = {}\n",
    "            continue\n",
    "\n",
    "        if not current_experience.get(\"key\"):\n",
    "            current_experience[\"key\"] = token.text\n",
    "        else:\n",
    "            if not current_experience.get(\"description\"):\n",
    "                current_experience[\"description\"] = token.text\n",
    "            else:\n",
    "                current_experience[\"description\"] += \" \" + token.text\n",
    "\n",
    "    if current_experience:\n",
    "        experience_list.append(current_experience)\n",
    "\n",
    "    return experience_list\n",
    "\n",
    "if __name__ == \"__main__\":\n",
    "    pdf_path = \"your_large_pdf.pdf\"\n",
    "    with open(pdf_path, \"r\") as file:\n",
    "        pdf_text = file.read()\n",
    "\n",
    "    technical_experience_list = extract_technical_experience(pdf_text)\n",
    "    print(technical_experience_list)\n"
   ]
  }
 ],
 "metadata": {
  "kernelspec": {
   "display_name": "Python 3 (ipykernel)",
   "language": "python",
   "name": "python3"
  },
  "language_info": {
   "codemirror_mode": {
    "name": "ipython",
    "version": 3
   },
   "file_extension": ".py",
   "mimetype": "text/x-python",
   "name": "python",
   "nbconvert_exporter": "python",
   "pygments_lexer": "ipython3",
   "version": "3.9.12"
  }
 },
 "nbformat": 4,
 "nbformat_minor": 5
}
