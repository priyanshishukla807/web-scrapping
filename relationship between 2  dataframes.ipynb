{
 "cells": [
  {
   "cell_type": "code",
   "execution_count": null,
   "id": "7531e66c",
   "metadata": {},
   "outputs": [],
   "source": [
    "import pandas as pd\n",
    "from sklearn.feature_extraction.text import TfidfVectorizer\n",
    "from sklearn.metrics.pairwise import cosine_similarity\n",
    "\n",
    "# load the two dataframes\n",
    "df1 = pd.read_csv('df1.csv')\n",
    "df2 = pd.read_csv('df2.csv')\n",
    "\n",
    "# preprocess the text data in each dataframe\n",
    "df1['text'] = df1['text'].str.lower()\n",
    "df1['tokens'] = df1['text'].str.split()\n",
    "df2['text'] = df2['text'].str.lower()\n",
    "df2['tokens'] = df2['text'].str.split()\n",
    "\n",
    "# create a TfidfVectorizer to convert each set of tokens into a numerical representation\n",
    "vectorizer = TfidfVectorizer()\n",
    "\n",
    "# create a list of all tokens from both dataframes\n",
    "all_tokens = df1['tokens'].tolist() + df2['tokens'].tolist()\n",
    "\n",
    "# fit the vectorizer on all tokens to create a vocabulary\n",
    "vectorizer.fit(all_tokens)\n",
    "\n",
    "# use the vectorizer to transform the tokens in each dataframe into numerical vectors\n",
    "df1_vectors = vectorizer.transform(df1['tokens'].apply(lambda x: ' '.join(x)))\n",
    "df2_vectors = vectorizer.transform(df2['tokens'].apply(lambda x: ' '.join(x)))\n",
    "\n",
    "# compute the cosine similarity between each pair of vectors\n",
    "similarity_matrix = cosine_similarity(df1_vectors, df2_vectors)\n",
    "\n",
    "# loop through each row of the similarity matrix and find the pairs with high similarity scores\n",
    "for i in range(len(df1)):\n",
    "    for j in range(len(df2)):\n",
    "        if similarity_matrix[i,j] > 0.8:\n",
    "            # store the relationship information in a new dataframe or column\n",
    "            print(f\"df1 row {i} is related to df2 row {j}\")\n"
   ]
  }
 ],
 "metadata": {
  "kernelspec": {
   "display_name": "Python 3 (ipykernel)",
   "language": "python",
   "name": "python3"
  },
  "language_info": {
   "codemirror_mode": {
    "name": "ipython",
    "version": 3
   },
   "file_extension": ".py",
   "mimetype": "text/x-python",
   "name": "python",
   "nbconvert_exporter": "python",
   "pygments_lexer": "ipython3",
   "version": "3.9.12"
  }
 },
 "nbformat": 4,
 "nbformat_minor": 5
}
