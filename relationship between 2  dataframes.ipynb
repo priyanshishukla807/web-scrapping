import pandas as pd
from sklearn.feature_extraction.text import TfidfVectorizer
from sklearn.metrics.pairwise import cosine_similarity

# Example data frames
df1 = pd.DataFrame({'text': ['apple', 'banana', 'orange']})
df2 = pd.DataFrame({'text': ['apples are delicious', 'I like to eat bananas', 'oranges are juicy']})

# Create TF-IDF vectorizer and compute document-term matrix for each data frame
tfidf = TfidfVectorizer()
tfidf_matrix1 = tfidf.fit_transform(df1['text'])
tfidf_matrix2 = tfidf.transform(df2['text'])

# Compute cosine similarity between each pair of documents
similarity_matrix = cosine_similarity(tfidf_matrix1, tfidf_matrix2)

# Find the maximum similarity for each document in df1
max_similarities = similarity_matrix.max(axis=1)

# Add the maximum similarity as a column to df1
df1['max_similarity'] = max_similarities

# Print the result
print(df1)
